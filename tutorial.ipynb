{
 "metadata": {
  "language_info": {
   "codemirror_mode": {
    "name": "ipython",
    "version": 3
   },
   "file_extension": ".py",
   "mimetype": "text/x-python",
   "name": "python",
   "nbconvert_exporter": "python",
   "pygments_lexer": "ipython3",
   "version": "3.7.9-final"
  },
  "orig_nbformat": 2,
  "kernelspec": {
   "name": "Python 3.7.9 64-bit ('BrainMaturation': conda)",
   "display_name": "Python 3.7.9 64-bit ('BrainMaturation': conda)",
   "metadata": {
    "interpreter": {
     "hash": "def485bad90fc56779f9215b40e9f7f62dee09883f03a83909524b429b2fe336"
    }
   }
  }
 },
 "nbformat": 4,
 "nbformat_minor": 2,
 "cells": [
  {
   "source": [
    "## Tutorial of RL for BrainMauration tasks"
   ],
   "cell_type": "markdown",
   "metadata": {}
  },
  {
   "source": [
    "## 1. Imports"
   ],
   "cell_type": "markdown",
   "metadata": {}
  },
  {
   "cell_type": "code",
   "execution_count": 1,
   "metadata": {},
   "outputs": [
    {
     "output_type": "execute_result",
     "data": {
      "text/plain": [
       "'/Users/jj/Documents/Projects/RL_BrainMaturation'"
      ]
     },
     "metadata": {},
     "execution_count": 1
    }
   ],
   "source": [
    "pwd"
   ]
  },
  {
   "cell_type": "code",
   "execution_count": 2,
   "metadata": {},
   "outputs": [],
   "source": [
    "from tasks.task import Task, Instruction\n",
    "from tasks.odr import ODR\n",
    "from tasks.gap import Gap\n",
    "from tasks.odr_distract import ODRDistract\n",
    "from envs.environment import Environment\n",
    "\n",
    "import ray\n",
    "from ray.rllib.agents.ppo import PPOTrainer\n",
    "from ray.rllib.agents.a3c import A2CTrainer\n",
    "from ray.tune.registry import register_env\n",
    "\n",
    "import sys\n",
    "import logging\n",
    "import numpy as np\n",
    "from typing import List"
   ]
  },
  {
   "source": [
    "## 2. Basic APIs "
   ],
   "cell_type": "markdown",
   "metadata": {}
  },
  {
   "cell_type": "code",
   "execution_count": 3,
   "metadata": {},
   "outputs": [
    {
     "output_type": "stream",
     "name": "stdout",
     "text": [
      "Help on class Instruction in module tasks.task:\n\nclass Instruction(builtins.object)\n |  Instruction(time: 'int', x: 'int', y: 'int', rng: 'Optional[np.random.Generator]' = None)\n |  \n |  This class defines where the signal displays on the screen\n |  \n |  Methods defined here:\n |  \n |  __init__(self, time: 'int', x: 'int', y: 'int', rng: 'Optional[np.random.Generator]' = None)\n |      Args:\n |          time: int\n |              The time when the instructure got released\n |          x: int\n |              The horizontal coordinate where the signal displays\n |          y: int\n |              The vertical coordinate where the signal displays\n |          rng: Optional[np.random.Generator] = None\n |              Optional numpy raomdom number generator to add an randomized component to the signal\n |  \n |  ----------------------------------------------------------------------\n |  Data descriptors defined here:\n |  \n |  __dict__\n |      dictionary for instance variables (if defined)\n |  \n |  __weakref__\n |      list of weak references to the object (if defined)\n |  \n |  position\n |      Coordinates of the signal\n\n"
     ]
    }
   ],
   "source": [
    "help(Instruction)"
   ]
  },
  {
   "cell_type": "code",
   "execution_count": 4,
   "metadata": {},
   "outputs": [
    {
     "output_type": "stream",
     "name": "stdout",
     "text": [
      "Help on class Task in module tasks.task:\n\nclass Task(builtins.object)\n |  Task(target_x: 'int', target_y: 'int', instructions: 'Dict[int, List[Instruction]]', tot_frames: 'int' = 5, width: 'int' = 42, height: 'int' = 42, encourage_mode: 'bool' = True, epsilon: 'float' = 1.0)\n |  \n |  This Task class defines the task to be learned.\n |  \n |  Methods defined here:\n |  \n |  __init__(self, target_x: 'int', target_y: 'int', instructions: 'Dict[int, List[Instruction]]', tot_frames: 'int' = 5, width: 'int' = 42, height: 'int' = 42, encourage_mode: 'bool' = True, epsilon: 'float' = 1.0)\n |      Args:\n |          target_x: int\n |              The horizontal coordinate of the target focus point. The unit of the coordinate is pixel. \n |          target_y: int\n |              The vertical coordinate of the target focus point. The unit of the coordinate is pixel.     \n |          instructions: List[Instruction]\n |              List of instructions \n |          width: int\n |              The width of the screen. Default value is 10. The unit of width is pixel. \n |          height: int\n |              The height of the screen. Default value is 10. The unit of width is pixel.\n |          tot_frames: int\n |              Total number of frames in the task. Default value is 5.\n |          encourage_mode: bool\n |              Encourage mode or not. Default value is True, which allows to return the score as np.exp(-distance).\n |              When encourage_mode is false, a sparse reward of 1 is only returned when the distance is smaller than epsilon.\n |  \n |  issue_instruction(self, t: 'int') -> 'Union[List[Instruction], None]'\n |      This method is to release signals to display on the screen\n |  \n |  score(self, focus_point: 'Tuple[int, int]', time: 'int') -> 'float'\n |      This method computes reward score. \n |      In the base brain maturation tasks, reward is not returned until the last step. \n |      At the last step, the score is based on how close the focus point is to the target focus points.\n |      \n |      Args:\n |          focus_point: Tuple[int, int]\n |              The tuple that describes the coordinate of focus_point, which is the action taken by the agent\n |          time: int\n |              Time step to compute the score\n |  \n |  ----------------------------------------------------------------------\n |  Data descriptors defined here:\n |  \n |  __dict__\n |      dictionary for instance variables (if defined)\n |  \n |  __weakref__\n |      list of weak references to the object (if defined)\n\n"
     ]
    }
   ],
   "source": [
    "help(Task)"
   ]
  },
  {
   "cell_type": "code",
   "execution_count": 5,
   "metadata": {},
   "outputs": [
    {
     "output_type": "stream",
     "name": "stdout",
     "text": [
      "Help on class ODR in module tasks.odr:\n\nclass ODR(tasks.task.Task)\n |  ODR(target_x: 'int' = 1, target_y: 'int' = 5, width: 'int' = 42, height: 'int' = 42, encourage_mode: 'bool' = True)\n |  \n |  ODR task class.\n |  ODR task operates in the following 4 steps:\n |  1. fixation\n |  2. fixation + cue signal\n |  3. fixation\n |  4. no signal and expect to observe saccade toward the cue signal in step 2\n |  \n |  Method resolution order:\n |      ODR\n |      tasks.task.Task\n |      builtins.object\n |  \n |  Methods defined here:\n |  \n |  __init__(self, target_x: 'int' = 1, target_y: 'int' = 5, width: 'int' = 42, height: 'int' = 42, encourage_mode: 'bool' = True)\n |      Args:\n |          target_x: int\n |              The horizontal coordinate of the target focus point. The unit of the coordinate is pixel.\n |          target_y: int\n |              The vertical coordinate of the target focus point. The unit of the coordinate is pixel.\n |          width: int\n |              The width of the screen. Default value is 10. The unit of width is pixel.\n |          height: int\n |              The height of the screen. Default value is 10. The unit of width is pixel.\n |          encourage_mode: bool\n |              Encourage mode or not. Default value is True, which allows to return the score as np.exp(-distance).\n |              When encourage_mode is false, a sparse reward of 1 is only returned when the distance is smaller than epsilon.\n |  \n |  ----------------------------------------------------------------------\n |  Methods inherited from tasks.task.Task:\n |  \n |  issue_instruction(self, t: 'int') -> 'Union[List[Instruction], None]'\n |      This method is to release signals to display on the screen\n |  \n |  score(self, focus_point: 'Tuple[int, int]', time: 'int') -> 'float'\n |      This method computes reward score. \n |      In the base brain maturation tasks, reward is not returned until the last step. \n |      At the last step, the score is based on how close the focus point is to the target focus points.\n |      \n |      Args:\n |          focus_point: Tuple[int, int]\n |              The tuple that describes the coordinate of focus_point, which is the action taken by the agent\n |          time: int\n |              Time step to compute the score\n |  \n |  ----------------------------------------------------------------------\n |  Data descriptors inherited from tasks.task.Task:\n |  \n |  __dict__\n |      dictionary for instance variables (if defined)\n |  \n |  __weakref__\n |      list of weak references to the object (if defined)\n\n"
     ]
    }
   ],
   "source": [
    "help(ODR)"
   ]
  },
  {
   "cell_type": "code",
   "execution_count": 6,
   "metadata": {},
   "outputs": [],
   "source": [
    "customized_instructions = {\n",
    "    0: [Instruction(time=0, x=5, y=5)],\n",
    "    1: [Instruction(time=1, x=5, y=5), Instruction(time=1, x=1, y=5)],\n",
    "    2: [Instruction(time=2, x=5, y=5, rng=np.random.default_rng())],\n",
    "}\n",
    "customized_task = Task(\n",
    "    target_x=1,\n",
    "    target_y=5,\n",
    "    instructions=customized_instructions,\n",
    "    tot_frames=4,\n",
    "    width=42,\n",
    "    height=42,\n",
    ")"
   ]
  },
  {
   "cell_type": "code",
   "execution_count": 7,
   "metadata": {},
   "outputs": [
    {
     "output_type": "stream",
     "name": "stdout",
     "text": [
      "Help on class Environment in module envs.environment:\n\nclass Environment(gym.core.Env)\n |  Environment(env_config: 'spaces.Dict[str, Task]') -> 'None'\n |  \n |  Environment class that simulate the environement of the brain maturation experiments.\n |  \n |  The environment assumes the observation is the 2D screen with 1 color channel. \n |  The task of the brain maturation experiments is configged via the dictionary of env_config.\n |  \n |  Method resolution order:\n |      Environment\n |      gym.core.Env\n |      builtins.object\n |  \n |  Methods defined here:\n |  \n |  __init__(self, env_config: 'spaces.Dict[str, Task]') -> 'None'\n |      Inits the env based on the env_config dictionary. \n |      Args:\n |          env_config: Dict[str, Task]\n |              Environment config dictionary, i.e. env_config = {\"task\": Task}\n |  \n |  reset(self) -> 'np.ndarray'\n |      Reset the env to the initial config.\n |  \n |  step(self, action: 'spaces.Tuple[int, int]') -> 'Tuple[np.ndarray, float, bool, Dict]'\n |      Updates the env state/observation based on the action taken by the agent.\n |      In this base environment, agent's action won't change the environment during \n |      simple brain maturation tasks. As a result, the environment will only change\n |      according to the instructions predefined by the input task/rule.\n |      \n |      Args:\n |          action: spaces.Tuple[int, int]\n |              Action output by the RL agent. The action is the position where the \n |              agent is looking to.\n |  \n |  ----------------------------------------------------------------------\n |  Methods inherited from gym.core.Env:\n |  \n |  __enter__(self)\n |      Support with-statement for the environment.\n |  \n |  __exit__(self, *args)\n |      Support with-statement for the environment.\n |  \n |  __str__(self)\n |      Return str(self).\n |  \n |  close(self)\n |      Override close in your subclass to perform any necessary cleanup.\n |      \n |      Environments will automatically close() themselves when\n |      garbage collected or when the program exits.\n |  \n |  render(self, mode='human')\n |      Renders the environment.\n |      \n |      The set of supported modes varies per environment. (And some\n |      environments do not support rendering at all.) By convention,\n |      if mode is:\n |      \n |      - human: render to the current display or terminal and\n |        return nothing. Usually for human consumption.\n |      - rgb_array: Return an numpy.ndarray with shape (x, y, 3),\n |        representing RGB values for an x-by-y pixel image, suitable\n |        for turning into a video.\n |      - ansi: Return a string (str) or StringIO.StringIO containing a\n |        terminal-style text representation. The text can include newlines\n |        and ANSI escape sequences (e.g. for colors).\n |      \n |      Note:\n |          Make sure that your class's metadata 'render.modes' key includes\n |            the list of supported modes. It's recommended to call super()\n |            in implementations to use the functionality of this method.\n |      \n |      Args:\n |          mode (str): the mode to render with\n |      \n |      Example:\n |      \n |      class MyEnv(Env):\n |          metadata = {'render.modes': ['human', 'rgb_array']}\n |      \n |          def render(self, mode='human'):\n |              if mode == 'rgb_array':\n |                  return np.array(...) # return RGB frame suitable for video\n |              elif mode == 'human':\n |                  ... # pop up a window and render\n |              else:\n |                  super(MyEnv, self).render(mode=mode) # just raise an exception\n |  \n |  seed(self, seed=None)\n |      Sets the seed for this env's random number generator(s).\n |      \n |      Note:\n |          Some environments use multiple pseudorandom number generators.\n |          We want to capture all such seeds used in order to ensure that\n |          there aren't accidental correlations between multiple generators.\n |      \n |      Returns:\n |          list<bigint>: Returns the list of seeds used in this env's random\n |            number generators. The first value in the list should be the\n |            \"main\" seed, or the value which a reproducer should pass to\n |            'seed'. Often, the main seed equals the provided 'seed', but\n |            this won't be true if seed=None, for example.\n |  \n |  ----------------------------------------------------------------------\n |  Data descriptors inherited from gym.core.Env:\n |  \n |  __dict__\n |      dictionary for instance variables (if defined)\n |  \n |  __weakref__\n |      list of weak references to the object (if defined)\n |  \n |  unwrapped\n |      Completely unwrap this env.\n |      \n |      Returns:\n |          gym.Env: The base non-wrapped gym.Env instance\n |  \n |  ----------------------------------------------------------------------\n |  Data and other attributes inherited from gym.core.Env:\n |  \n |  action_space = None\n |  \n |  metadata = {'render.modes': []}\n |  \n |  observation_space = None\n |  \n |  reward_range = (-inf, inf)\n |  \n |  spec = None\n\n"
     ]
    }
   ],
   "source": [
    "help(Environment)"
   ]
  },
  {
   "cell_type": "code",
   "execution_count": 8,
   "metadata": {},
   "outputs": [],
   "source": [
    "customized_env = Environment(env_config={\"task\": customized_task})"
   ]
  },
  {
   "source": [
    "## 3. A trial run"
   ],
   "cell_type": "markdown",
   "metadata": {}
  },
  {
   "cell_type": "code",
   "execution_count": 9,
   "metadata": {},
   "outputs": [
    {
     "output_type": "stream",
     "name": "stderr",
     "text": [
      "2020-10-10 11:57:34,412\tINFO services.py:1166 -- View the Ray dashboard at \u001b[1m\u001b[32mhttp://127.0.0.1:8265\u001b[39m\u001b[22m\n"
     ]
    }
   ],
   "source": [
    "ray.init()\n",
    "np.random.seed(0)\n",
    "logging.basicConfig(stream=sys.stdout, level=logging.INFO)\n",
    "logger = logging.getLogger('Trace')\n",
    "\n",
    "def env_creator(env_config):\n",
    "    return Environment(env_config)  # return an env instance\n",
    "\n",
    "register_env(\"my_env\", env_creator) # register the env name"
   ]
  },
  {
   "source": [
    "Initialize the task:"
   ],
   "cell_type": "markdown",
   "metadata": {}
  },
  {
   "cell_type": "code",
   "execution_count": 10,
   "metadata": {},
   "outputs": [],
   "source": [
    "task = ODR(target_x=1, target_y=5, width=42, height=42)\n",
    "# task = Gap(target_x=1, target_y=5, width=42, height=42)\n",
    "# task = ODRDistract(target_x=1, target_y=5, width=42, height=42)"
   ]
  },
  {
   "source": [
    "Initialize the agent"
   ],
   "cell_type": "markdown",
   "metadata": {}
  },
  {
   "cell_type": "code",
   "execution_count": 11,
   "metadata": {},
   "outputs": [
    {
     "output_type": "stream",
     "name": "stderr",
     "text": [
      "2020-10-10 11:57:35,847\tINFO trainer.py:618 -- Current log_level is WARN. For more information, set 'log_level': 'INFO' / 'DEBUG' or use the -v and -vv flags.\n",
      "2020-10-10 11:57:36,424\tWARNING util.py:39 -- Install gputil for GPU system monitoring.\n"
     ]
    }
   ],
   "source": [
    "# PPO agent\n",
    "trainer = PPOTrainer(\n",
    "    env=\"my_env\",\n",
    "    config={\n",
    "        \"env_config\": {\"task\": task},\n",
    "        \"framework\": \"torch\",\n",
    "        \"num_workers\": 1,\n",
    "        \"train_batch_size\": 10,\n",
    "        \"sgd_minibatch_size\": 5,\n",
    "        \"num_sgd_iter\": 10,\n",
    "        # \"model\": {\n",
    "        #     # Whether to wrap the model with an LSTM.\n",
    "        #     \"use_lstm\": True,\n",
    "        #     # Max seq len for training the LSTM, defaults to 20.\n",
    "        #     \"max_seq_len\": task.tot_frames - 1,\n",
    "        #     # # Size of the LSTM cell.\n",
    "        #     \"lstm_cell_size\": task.tot_frames - 1,\n",
    "        #     # # Whether to feed a_{t-1}, r_{t-1} to LSTM.\n",
    "        #     # # \"lstm_use_prev_action_reward\": False,\n",
    "        # },\n",
    "    },\n",
    ")\n"
   ]
  },
  {
   "cell_type": "code",
   "execution_count": 12,
   "metadata": {},
   "outputs": [
    {
     "output_type": "stream",
     "name": "stderr",
     "text": [
      "2020-10-10 11:57:37,022\tWARNING util.py:39 -- Install gputil for GPU system monitoring.\n"
     ]
    }
   ],
   "source": [
    "# A2C agent\n",
    "trainer = A2CTrainer(\n",
    "    env=\"my_env\",\n",
    "    config={\n",
    "        \"env_config\": {\"task\": task},\n",
    "        \"framework\": \"torch\",\n",
    "        \"num_workers\": 1,\n",
    "        \"train_batch_size\": 10,\n",
    "        # \"model\": {\n",
    "        #     # Whether to wrap the model with an LSTM.\n",
    "        #     \"use_lstm\": True,\n",
    "        #     # Max seq len for training the LSTM, defaults to 20.\n",
    "        #     \"max_seq_len\": task.tot_frames - 1,\n",
    "        #     # # Size of the LSTM cell.\n",
    "        #     \"lstm_cell_size\": task.tot_frames - 1,\n",
    "        #     # # Whether to feed a_{t-1}, r_{t-1} to LSTM.\n",
    "        #     # # \"lstm_use_prev_action_reward\": False,\n",
    "        # },\n",
    "    },\n",
    ")"
   ]
  },
  {
   "source": [
    "Initialize the env"
   ],
   "cell_type": "markdown",
   "metadata": {}
  },
  {
   "cell_type": "code",
   "execution_count": 13,
   "metadata": {},
   "outputs": [],
   "source": [
    "env = Environment(env_config={\"task\": task})\n"
   ]
  },
  {
   "source": [
    "Start RL learning"
   ],
   "cell_type": "markdown",
   "metadata": {}
  },
  {
   "cell_type": "code",
   "execution_count": 14,
   "metadata": {},
   "outputs": [],
   "source": [
    "def train(rl_trainer, num_training_iterations: int=10)-> List:\n",
    "    log = []\n",
    "    for i in range(num_training_iterations):\n",
    "        logger.info(f\"Training iteration {i}...\")\n",
    "        rl_trainer.train()\n",
    "\n",
    "        done = False\n",
    "        cumulative_reward = 0.0\n",
    "        observation = env.reset()\n",
    "\n",
    "        while not done:\n",
    "            action = rl_trainer.compute_action(observation)\n",
    "\n",
    "            observation, reward, done, results = env.step(action)\n",
    "            logger.info(f\"Time: {env.time}. Action: {action}\")\n",
    "            cumulative_reward += reward\n",
    "        logger.info(\n",
    "            f\"Last step reward: {reward: .3e}; Cumulative reward: {cumulative_reward:.3e}\"\n",
    "        )\n",
    "        log.append([i, cumulative_reward])\n",
    "    return log, rl_trainer"
   ]
  },
  {
   "cell_type": "code",
   "execution_count": 15,
   "metadata": {},
   "outputs": [
    {
     "output_type": "stream",
     "name": "stdout",
     "text": [
      "INFO:Trace:Training iteration 0...\n",
      "INFO:Trace:Time: 1. Action: (4, 21)\n",
      "INFO:Trace:Time: 2. Action: (4, 9)\n",
      "INFO:Trace:Time: 3. Action: (41, 13)\n",
      "INFO:Trace:Last step reward:  0.000e+00; Cumulative reward: 0.000e+00\n",
      "INFO:Trace:Training iteration 1...\n",
      "INFO:Trace:Time: 1. Action: (0, 41)\n",
      "INFO:Trace:Time: 2. Action: (5, 32)\n",
      "INFO:Trace:Time: 3. Action: (14, 32)\n",
      "INFO:Trace:Last step reward:  0.000e+00; Cumulative reward: 0.000e+00\n",
      "INFO:Trace:Training iteration 2...\n",
      "INFO:Trace:Time: 1. Action: (17, 39)\n",
      "INFO:Trace:Time: 2. Action: (7, 33)\n",
      "INFO:Trace:Time: 3. Action: (34, 41)\n",
      "INFO:Trace:Last step reward:  0.000e+00; Cumulative reward: 0.000e+00\n",
      "INFO:Trace:Training iteration 3...\n",
      "INFO:Trace:Time: 1. Action: (1, 29)\n",
      "INFO:Trace:Time: 2. Action: (29, 31)\n",
      "INFO:Trace:Time: 3. Action: (8, 1)\n",
      "INFO:Trace:Last step reward:  5.900e-29; Cumulative reward: 5.900e-29\n",
      "INFO:Trace:Training iteration 4...\n",
      "INFO:Trace:Time: 1. Action: (4, 4)\n",
      "INFO:Trace:Time: 2. Action: (39, 26)\n",
      "INFO:Trace:Time: 3. Action: (9, 41)\n",
      "INFO:Trace:Last step reward:  0.000e+00; Cumulative reward: 0.000e+00\n",
      "INFO:Trace:Training iteration 5...\n",
      "INFO:Trace:Time: 1. Action: (14, 24)\n",
      "INFO:Trace:Time: 2. Action: (27, 9)\n",
      "INFO:Trace:Time: 3. Action: (21, 38)\n",
      "INFO:Trace:Last step reward:  0.000e+00; Cumulative reward: 0.000e+00\n",
      "INFO:Trace:Training iteration 6...\n",
      "INFO:Trace:Time: 1. Action: (32, 17)\n",
      "INFO:Trace:Time: 2. Action: (1, 32)\n",
      "INFO:Trace:Time: 3. Action: (1, 6)\n",
      "INFO:Trace:Last step reward:  3.679e-01; Cumulative reward: 3.679e-01\n",
      "INFO:Trace:Training iteration 7...\n",
      "INFO:Trace:Time: 1. Action: (1, 5)\n",
      "INFO:Trace:Time: 2. Action: (1, 5)\n",
      "INFO:Trace:Time: 3. Action: (1, 5)\n",
      "INFO:Trace:Last step reward:  1.000e+00; Cumulative reward: 1.000e+00\n",
      "INFO:Trace:Training iteration 8...\n",
      "INFO:Trace:Time: 1. Action: (1, 5)\n",
      "INFO:Trace:Time: 2. Action: (1, 5)\n",
      "INFO:Trace:Time: 3. Action: (1, 5)\n",
      "INFO:Trace:Last step reward:  1.000e+00; Cumulative reward: 1.000e+00\n",
      "INFO:Trace:Training iteration 9...\n",
      "INFO:Trace:Time: 1. Action: (1, 5)\n",
      "INFO:Trace:Time: 2. Action: (1, 5)\n",
      "INFO:Trace:Time: 3. Action: (1, 5)\n",
      "INFO:Trace:Last step reward:  1.000e+00; Cumulative reward: 1.000e+00\n"
     ]
    }
   ],
   "source": [
    "log, rl_trainer = train(trainer, 10)"
   ]
  },
  {
   "cell_type": "code",
   "execution_count": 16,
   "metadata": {},
   "outputs": [
    {
     "output_type": "execute_result",
     "data": {
      "text/plain": [
       "False"
      ]
     },
     "metadata": {},
     "execution_count": 16
    }
   ],
   "source": [
    "trainer.get_policy().is_recurrent()"
   ]
  },
  {
   "cell_type": "code",
   "execution_count": 17,
   "metadata": {},
   "outputs": [
    {
     "output_type": "execute_result",
     "data": {
      "text/plain": [
       "dict_keys(['_logits._model.1.weight', '_logits._model.1.bias', '_convs.0._model.1.weight', '_convs.0._model.1.bias', '_convs.1._model.1.weight', '_convs.1._model.1.bias', '_convs.2._model.0.weight', '_convs.2._model.0.bias', '_value_branch._model.0.weight', '_value_branch._model.0.bias'])"
      ]
     },
     "metadata": {},
     "execution_count": 17
    }
   ],
   "source": [
    "trainer.get_weights()[\"default_policy\"].keys()"
   ]
  },
  {
   "source": [
    "Multiple trials"
   ],
   "cell_type": "markdown",
   "metadata": {}
  },
  {
   "cell_type": "code",
   "execution_count": 18,
   "metadata": {
    "tags": [
     "outputPrepend"
    ]
   },
   "outputs": [
    {
     "output_type": "stream",
     "name": "stdout",
     "text": [
      "ime: 2. Action: (1, 4)\n",
      "INFO:Trace:Time: 3. Action: (1, 4)\n",
      "INFO:Trace:Last step reward:  3.679e-01; Cumulative reward: 3.679e-01\n",
      "INFO:Trace:Training iteration 6...\n",
      "INFO:Trace:Time: 1. Action: (1, 4)\n",
      "INFO:Trace:Time: 2. Action: (1, 4)\n",
      "INFO:Trace:Time: 3. Action: (1, 4)\n",
      "INFO:Trace:Last step reward:  3.679e-01; Cumulative reward: 3.679e-01\n",
      "INFO:Trace:Training iteration 7...\n",
      "INFO:Trace:Time: 1. Action: (1, 5)\n",
      "INFO:Trace:Time: 2. Action: (1, 5)\n",
      "INFO:Trace:Time: 3. Action: (1, 5)\n",
      "INFO:Trace:Last step reward:  1.000e+00; Cumulative reward: 1.000e+00\n",
      "INFO:Trace:Training iteration 8...\n",
      "INFO:Trace:Time: 1. Action: (1, 5)\n",
      "INFO:Trace:Time: 2. Action: (1, 5)\n",
      "INFO:Trace:Time: 3. Action: (1, 5)\n",
      "INFO:Trace:Last step reward:  1.000e+00; Cumulative reward: 1.000e+00\n",
      "INFO:Trace:Training iteration 9...\n",
      "INFO:Trace:Time: 1. Action: (1, 5)\n",
      "INFO:Trace:Time: 2. Action: (1, 5)\n",
      "INFO:Trace:Time: 3. Action: (1, 5)\n",
      "INFO:Trace:Last step reward:  1.000e+00; Cumulative reward: 1.000e+00\n",
      "INFO:Trace:Training iteration 10...\n",
      "INFO:Trace:Time: 1. Action: (1, 5)\n",
      "INFO:Trace:Time: 2. Action: (1, 5)\n",
      "INFO:Trace:Time: 3. Action: (1, 5)\n",
      "INFO:Trace:Last step reward:  1.000e+00; Cumulative reward: 1.000e+00\n",
      "INFO:Trace:Training iteration 11...\n",
      "INFO:Trace:Time: 1. Action: (1, 5)\n",
      "INFO:Trace:Time: 2. Action: (1, 5)\n",
      "INFO:Trace:Time: 3. Action: (1, 5)\n",
      "INFO:Trace:Last step reward:  1.000e+00; Cumulative reward: 1.000e+00\n",
      "INFO:Trace:Training iteration 12...\n",
      "INFO:Trace:Time: 1. Action: (1, 5)\n",
      "INFO:Trace:Time: 2. Action: (1, 5)\n",
      "INFO:Trace:Time: 3. Action: (1, 5)\n",
      "INFO:Trace:Last step reward:  1.000e+00; Cumulative reward: 1.000e+00\n",
      "INFO:Trace:Run 4...\n",
      "2020-10-10 12:07:28,635\tWARNING util.py:39 -- Install gputil for GPU system monitoring.\n",
      "INFO:Trace:Training iteration 0...\n",
      "2020-10-10 12:07:28,777\tWARNING worker.py:1072 -- The actor or task with ID ffffffffffffffffb7d465ad01000000 is pending and cannot currently be scheduled. It requires {CPU: 1.000000} for execution and {CPU: 1.000000} for placement, but this node only has remaining {memory: 2.490234 GiB}, {node:192.168.1.100: 1.000000}, {CPU: 1.000000}, {object_store_memory: 0.830078 GiB}. In total there are 0 pending tasks and 1 pending actors on this node. This is likely due to all cluster resources being claimed by actors. To resolve the issue, consider creating fewer actors or increase the resources available to this Ray cluster. You can ignore this message if this Ray cluster is expected to auto-scale.\n",
      "\u001b[2m\u001b[36m(pid=65677)\u001b[0m 2020-10-10 12:07:28,954\tINFO (unknown file):0 -- gc.collect() freed 29 refs in 0.0761327040000026 seconds\n",
      "\u001b[2m\u001b[36m(pid=64937)\u001b[0m 2020-10-10 12:07:29,122\tINFO (unknown file):0 -- gc.collect() freed 18 refs in 0.24124369700007264 seconds\n",
      "\u001b[2m\u001b[36m(pid=64936)\u001b[0m 2020-10-10 12:07:29,218\tINFO (unknown file):0 -- gc.collect() freed 136 refs in 0.3399381509999557 seconds\n",
      "2020-10-10 12:07:29,267\tINFO (unknown file):0 -- gc.collect() freed 2274 refs in 0.38586062500007756 seconds\n",
      "INFO:Trace:Time: 1. Action: (10, 2)\n",
      "INFO:Trace:Time: 2. Action: (8, 41)\n",
      "INFO:Trace:Time: 3. Action: (32, 27)\n",
      "INFO:Trace:Last step reward:  0.000e+00; Cumulative reward: 0.000e+00\n",
      "INFO:Trace:Training iteration 1...\n",
      "INFO:Trace:Time: 1. Action: (3, 41)\n",
      "INFO:Trace:Time: 2. Action: (33, 8)\n",
      "INFO:Trace:Time: 3. Action: (33, 36)\n",
      "INFO:Trace:Last step reward:  0.000e+00; Cumulative reward: 0.000e+00\n",
      "INFO:Trace:Training iteration 2...\n",
      "INFO:Trace:Time: 1. Action: (36, 27)\n",
      "INFO:Trace:Time: 2. Action: (37, 26)\n",
      "INFO:Trace:Time: 3. Action: (33, 8)\n",
      "INFO:Trace:Last step reward:  0.000e+00; Cumulative reward: 0.000e+00\n",
      "INFO:Trace:Training iteration 3...\n",
      "INFO:Trace:Time: 1. Action: (38, 2)\n",
      "INFO:Trace:Time: 2. Action: (17, 41)\n",
      "INFO:Trace:Time: 3. Action: (10, 33)\n",
      "INFO:Trace:Last step reward:  0.000e+00; Cumulative reward: 0.000e+00\n",
      "INFO:Trace:Training iteration 4...\n",
      "INFO:Trace:Time: 1. Action: (24, 29)\n",
      "INFO:Trace:Time: 2. Action: (2, 32)\n",
      "INFO:Trace:Time: 3. Action: (6, 21)\n",
      "INFO:Trace:Last step reward:  9.189e-123; Cumulative reward: 9.189e-123\n",
      "INFO:Trace:Training iteration 5...\n",
      "INFO:Trace:Time: 1. Action: (2, 4)\n",
      "INFO:Trace:Time: 2. Action: (0, 4)\n",
      "INFO:Trace:Time: 3. Action: (2, 4)\n",
      "INFO:Trace:Last step reward:  1.353e-01; Cumulative reward: 1.353e-01\n",
      "INFO:Trace:Training iteration 6...\n",
      "INFO:Trace:Time: 1. Action: (1, 4)\n",
      "INFO:Trace:Time: 2. Action: (1, 4)\n",
      "INFO:Trace:Time: 3. Action: (1, 4)\n",
      "INFO:Trace:Last step reward:  3.679e-01; Cumulative reward: 3.679e-01\n",
      "INFO:Trace:Training iteration 7...\n",
      "INFO:Trace:Time: 1. Action: (1, 4)\n",
      "INFO:Trace:Time: 2. Action: (1, 4)\n",
      "INFO:Trace:Time: 3. Action: (1, 4)\n",
      "INFO:Trace:Last step reward:  3.679e-01; Cumulative reward: 3.679e-01\n",
      "INFO:Trace:Training iteration 8...\n",
      "INFO:Trace:Time: 1. Action: (1, 4)\n",
      "INFO:Trace:Time: 2. Action: (1, 4)\n",
      "INFO:Trace:Time: 3. Action: (1, 4)\n",
      "INFO:Trace:Last step reward:  3.679e-01; Cumulative reward: 3.679e-01\n",
      "INFO:Trace:Training iteration 9...\n",
      "INFO:Trace:Time: 1. Action: (1, 4)\n",
      "INFO:Trace:Time: 2. Action: (1, 4)\n",
      "INFO:Trace:Time: 3. Action: (1, 4)\n",
      "INFO:Trace:Last step reward:  3.679e-01; Cumulative reward: 3.679e-01\n",
      "INFO:Trace:Training iteration 10...\n",
      "INFO:Trace:Time: 1. Action: (1, 4)\n",
      "INFO:Trace:Time: 2. Action: (1, 4)\n",
      "INFO:Trace:Time: 3. Action: (1, 4)\n",
      "INFO:Trace:Last step reward:  3.679e-01; Cumulative reward: 3.679e-01\n",
      "INFO:Trace:Training iteration 11...\n",
      "INFO:Trace:Time: 1. Action: (1, 4)\n",
      "INFO:Trace:Time: 2. Action: (1, 4)\n",
      "INFO:Trace:Time: 3. Action: (1, 4)\n",
      "INFO:Trace:Last step reward:  3.679e-01; Cumulative reward: 3.679e-01\n",
      "INFO:Trace:Training iteration 12...\n",
      "INFO:Trace:Time: 1. Action: (1, 4)\n",
      "INFO:Trace:Time: 2. Action: (1, 4)\n",
      "INFO:Trace:Time: 3. Action: (1, 4)\n",
      "INFO:Trace:Last step reward:  3.679e-01; Cumulative reward: 3.679e-01\n",
      "INFO:Trace:Run 5...\n",
      "2020-10-10 12:09:33,600\tWARNING util.py:39 -- Install gputil for GPU system monitoring.\n",
      "INFO:Trace:Training iteration 0...\n",
      "INFO:Trace:Time: 1. Action: (21, 2)\n",
      "INFO:Trace:Time: 2. Action: (17, 39)\n",
      "INFO:Trace:Time: 3. Action: (27, 31)\n",
      "INFO:Trace:Last step reward:  0.000e+00; Cumulative reward: 0.000e+00\n",
      "INFO:Trace:Training iteration 1...\n",
      "INFO:Trace:Time: 1. Action: (26, 23)\n",
      "INFO:Trace:Time: 2. Action: (6, 35)\n",
      "INFO:Trace:Time: 3. Action: (15, 24)\n",
      "INFO:Trace:Last step reward:  1.253e-242; Cumulative reward: 1.253e-242\n",
      "INFO:Trace:Training iteration 2...\n",
      "INFO:Trace:Time: 1. Action: (14, 22)\n",
      "INFO:Trace:Time: 2. Action: (36, 32)\n",
      "INFO:Trace:Time: 3. Action: (20, 37)\n",
      "INFO:Trace:Last step reward:  0.000e+00; Cumulative reward: 0.000e+00\n",
      "INFO:Trace:Training iteration 3...\n",
      "INFO:Trace:Time: 1. Action: (16, 23)\n",
      "INFO:Trace:Time: 2. Action: (23, 16)\n",
      "INFO:Trace:Time: 3. Action: (7, 18)\n",
      "INFO:Trace:Last step reward:  9.325e-90; Cumulative reward: 9.325e-90\n",
      "INFO:Trace:Training iteration 4...\n",
      "INFO:Trace:Time: 1. Action: (3, 41)\n",
      "INFO:Trace:Time: 2. Action: (17, 6)\n",
      "INFO:Trace:Time: 3. Action: (5, 23)\n",
      "INFO:Trace:Last step reward:  2.187e-148; Cumulative reward: 2.187e-148\n",
      "INFO:Trace:Training iteration 5...\n",
      "INFO:Trace:Time: 1. Action: (40, 14)\n",
      "INFO:Trace:Time: 2. Action: (11, 41)\n",
      "INFO:Trace:Time: 3. Action: (0, 9)\n",
      "INFO:Trace:Last step reward:  4.140e-08; Cumulative reward: 4.140e-08\n",
      "INFO:Trace:Training iteration 6...\n",
      "INFO:Trace:Time: 1. Action: (17, 2)\n",
      "INFO:Trace:Time: 2. Action: (4, 26)\n",
      "INFO:Trace:Time: 3. Action: (2, 5)\n",
      "INFO:Trace:Last step reward:  3.679e-01; Cumulative reward: 3.679e-01\n",
      "INFO:Trace:Training iteration 7...\n",
      "INFO:Trace:Time: 1. Action: (0, 5)\n",
      "INFO:Trace:Time: 2. Action: (0, 5)\n",
      "INFO:Trace:Time: 3. Action: (0, 5)\n",
      "INFO:Trace:Last step reward:  3.679e-01; Cumulative reward: 3.679e-01\n",
      "INFO:Trace:Training iteration 8...\n",
      "INFO:Trace:Time: 1. Action: (0, 5)\n",
      "INFO:Trace:Time: 2. Action: (0, 5)\n",
      "INFO:Trace:Time: 3. Action: (0, 5)\n",
      "INFO:Trace:Last step reward:  3.679e-01; Cumulative reward: 3.679e-01\n",
      "INFO:Trace:Training iteration 9...\n",
      "INFO:Trace:Time: 1. Action: (0, 5)\n",
      "INFO:Trace:Time: 2. Action: (0, 5)\n",
      "INFO:Trace:Time: 3. Action: (0, 5)\n",
      "INFO:Trace:Last step reward:  3.679e-01; Cumulative reward: 3.679e-01\n",
      "INFO:Trace:Training iteration 10...\n",
      "INFO:Trace:Time: 1. Action: (0, 5)\n",
      "INFO:Trace:Time: 2. Action: (0, 5)\n",
      "INFO:Trace:Time: 3. Action: (7, 5)\n",
      "INFO:Trace:Last step reward:  2.320e-16; Cumulative reward: 2.320e-16\n",
      "INFO:Trace:Training iteration 11...\n",
      "INFO:Trace:Time: 1. Action: (0, 5)\n",
      "INFO:Trace:Time: 2. Action: (0, 5)\n",
      "INFO:Trace:Time: 3. Action: (0, 5)\n",
      "INFO:Trace:Last step reward:  3.679e-01; Cumulative reward: 3.679e-01\n",
      "INFO:Trace:Training iteration 12...\n",
      "INFO:Trace:Time: 1. Action: (0, 5)\n",
      "INFO:Trace:Time: 2. Action: (0, 5)\n",
      "INFO:Trace:Time: 3. Action: (0, 5)\n",
      "INFO:Trace:Last step reward:  3.679e-01; Cumulative reward: 3.679e-01\n",
      "INFO:Trace:Run 6...\n",
      "2020-10-10 12:11:37,119\tWARNING util.py:39 -- Install gputil for GPU system monitoring.\n",
      "INFO:Trace:Training iteration 0...\n",
      "INFO:Trace:Time: 1. Action: (0, 15)\n",
      "INFO:Trace:Time: 2. Action: (28, 33)\n",
      "INFO:Trace:Time: 3. Action: (38, 40)\n",
      "INFO:Trace:Last step reward:  0.000e+00; Cumulative reward: 0.000e+00\n",
      "INFO:Trace:Training iteration 1...\n",
      "INFO:Trace:Time: 1. Action: (22, 29)\n",
      "INFO:Trace:Time: 2. Action: (14, 41)\n",
      "INFO:Trace:Time: 3. Action: (1, 37)\n",
      "INFO:Trace:Last step reward:  0.000e+00; Cumulative reward: 0.000e+00\n",
      "INFO:Trace:Training iteration 2...\n",
      "INFO:Trace:Time: 1. Action: (7, 36)\n",
      "INFO:Trace:Time: 2. Action: (41, 30)\n",
      "INFO:Trace:Time: 3. Action: (23, 22)\n",
      "INFO:Trace:Last step reward:  0.000e+00; Cumulative reward: 0.000e+00\n",
      "INFO:Trace:Training iteration 3...\n",
      "INFO:Trace:Time: 1. Action: (22, 17)\n",
      "INFO:Trace:Time: 2. Action: (40, 32)\n",
      "INFO:Trace:Time: 3. Action: (17, 36)\n",
      "INFO:Trace:Last step reward:  0.000e+00; Cumulative reward: 0.000e+00\n",
      "INFO:Trace:Training iteration 4...\n",
      "INFO:Trace:Time: 1. Action: (20, 3)\n",
      "INFO:Trace:Time: 2. Action: (37, 7)\n",
      "INFO:Trace:Time: 3. Action: (34, 38)\n",
      "INFO:Trace:Last step reward:  0.000e+00; Cumulative reward: 0.000e+00\n",
      "INFO:Trace:Training iteration 5...\n",
      "INFO:Trace:Time: 1. Action: (1, 5)\n",
      "INFO:Trace:Time: 2. Action: (1, 5)\n",
      "INFO:Trace:Time: 3. Action: (1, 5)\n",
      "INFO:Trace:Last step reward:  1.000e+00; Cumulative reward: 1.000e+00\n",
      "INFO:Trace:Training iteration 6...\n",
      "INFO:Trace:Time: 1. Action: (1, 5)\n",
      "INFO:Trace:Time: 2. Action: (1, 5)\n",
      "INFO:Trace:Time: 3. Action: (1, 5)\n",
      "INFO:Trace:Last step reward:  1.000e+00; Cumulative reward: 1.000e+00\n",
      "INFO:Trace:Training iteration 7...\n",
      "INFO:Trace:Time: 1. Action: (1, 5)\n",
      "INFO:Trace:Time: 2. Action: (1, 5)\n",
      "INFO:Trace:Time: 3. Action: (1, 5)\n",
      "INFO:Trace:Last step reward:  1.000e+00; Cumulative reward: 1.000e+00\n",
      "INFO:Trace:Training iteration 8...\n",
      "INFO:Trace:Time: 1. Action: (1, 5)\n",
      "INFO:Trace:Time: 2. Action: (1, 5)\n",
      "INFO:Trace:Time: 3. Action: (1, 5)\n",
      "INFO:Trace:Last step reward:  1.000e+00; Cumulative reward: 1.000e+00\n",
      "INFO:Trace:Training iteration 9...\n",
      "INFO:Trace:Time: 1. Action: (1, 5)\n",
      "INFO:Trace:Time: 2. Action: (1, 5)\n",
      "INFO:Trace:Time: 3. Action: (1, 5)\n",
      "INFO:Trace:Last step reward:  1.000e+00; Cumulative reward: 1.000e+00\n",
      "INFO:Trace:Training iteration 10...\n",
      "INFO:Trace:Time: 1. Action: (1, 5)\n",
      "INFO:Trace:Time: 2. Action: (1, 5)\n",
      "INFO:Trace:Time: 3. Action: (1, 5)\n",
      "INFO:Trace:Last step reward:  1.000e+00; Cumulative reward: 1.000e+00\n",
      "INFO:Trace:Training iteration 11...\n",
      "INFO:Trace:Time: 1. Action: (1, 5)\n",
      "INFO:Trace:Time: 2. Action: (1, 5)\n",
      "INFO:Trace:Time: 3. Action: (1, 5)\n",
      "INFO:Trace:Last step reward:  1.000e+00; Cumulative reward: 1.000e+00\n",
      "INFO:Trace:Training iteration 12...\n",
      "INFO:Trace:Time: 1. Action: (1, 5)\n",
      "INFO:Trace:Time: 2. Action: (1, 5)\n",
      "INFO:Trace:Time: 3. Action: (1, 5)\n",
      "INFO:Trace:Last step reward:  1.000e+00; Cumulative reward: 1.000e+00\n",
      "INFO:Trace:Run 7...\n",
      "2020-10-10 12:13:42,795\tWARNING util.py:39 -- Install gputil for GPU system monitoring.\n",
      "INFO:Trace:Training iteration 0...\n",
      "INFO:Trace:Time: 1. Action: (29, 34)\n",
      "INFO:Trace:Time: 2. Action: (3, 7)\n",
      "INFO:Trace:Time: 3. Action: (32, 13)\n",
      "INFO:Trace:Last step reward:  0.000e+00; Cumulative reward: 0.000e+00\n",
      "INFO:Trace:Training iteration 1...\n",
      "INFO:Trace:Time: 1. Action: (29, 37)\n",
      "INFO:Trace:Time: 2. Action: (40, 13)\n",
      "INFO:Trace:Time: 3. Action: (18, 25)\n",
      "INFO:Trace:Last step reward:  5.903e-300; Cumulative reward: 5.903e-300\n",
      "INFO:Trace:Training iteration 2...\n",
      "INFO:Trace:Time: 1. Action: (13, 22)\n",
      "INFO:Trace:Time: 2. Action: (22, 27)\n",
      "INFO:Trace:Time: 3. Action: (19, 34)\n",
      "INFO:Trace:Last step reward:  0.000e+00; Cumulative reward: 0.000e+00\n",
      "INFO:Trace:Training iteration 3...\n",
      "INFO:Trace:Time: 1. Action: (39, 3)\n",
      "INFO:Trace:Time: 2. Action: (7, 11)\n",
      "INFO:Trace:Time: 3. Action: (3, 20)\n",
      "INFO:Trace:Last step reward:  3.520e-100; Cumulative reward: 3.520e-100\n",
      "INFO:Trace:Training iteration 4...\n",
      "INFO:Trace:Time: 1. Action: (1, 4)\n",
      "INFO:Trace:Time: 2. Action: (1, 5)\n",
      "INFO:Trace:Time: 3. Action: (1, 5)\n",
      "INFO:Trace:Last step reward:  1.000e+00; Cumulative reward: 1.000e+00\n",
      "INFO:Trace:Training iteration 5...\n",
      "INFO:Trace:Time: 1. Action: (1, 5)\n",
      "INFO:Trace:Time: 2. Action: (1, 5)\n",
      "INFO:Trace:Time: 3. Action: (1, 5)\n",
      "INFO:Trace:Last step reward:  1.000e+00; Cumulative reward: 1.000e+00\n",
      "INFO:Trace:Training iteration 6...\n",
      "INFO:Trace:Time: 1. Action: (1, 5)\n",
      "INFO:Trace:Time: 2. Action: (1, 5)\n",
      "INFO:Trace:Time: 3. Action: (1, 5)\n",
      "INFO:Trace:Last step reward:  1.000e+00; Cumulative reward: 1.000e+00\n",
      "INFO:Trace:Training iteration 7...\n",
      "INFO:Trace:Time: 1. Action: (1, 5)\n",
      "INFO:Trace:Time: 2. Action: (1, 5)\n",
      "INFO:Trace:Time: 3. Action: (1, 5)\n",
      "INFO:Trace:Last step reward:  1.000e+00; Cumulative reward: 1.000e+00\n",
      "INFO:Trace:Training iteration 8...\n",
      "INFO:Trace:Time: 1. Action: (1, 5)\n",
      "INFO:Trace:Time: 2. Action: (1, 5)\n",
      "INFO:Trace:Time: 3. Action: (1, 5)\n",
      "INFO:Trace:Last step reward:  1.000e+00; Cumulative reward: 1.000e+00\n",
      "INFO:Trace:Training iteration 9...\n",
      "INFO:Trace:Time: 1. Action: (1, 5)\n",
      "INFO:Trace:Time: 2. Action: (1, 5)\n",
      "INFO:Trace:Time: 3. Action: (1, 5)\n",
      "INFO:Trace:Last step reward:  1.000e+00; Cumulative reward: 1.000e+00\n",
      "INFO:Trace:Training iteration 10...\n",
      "INFO:Trace:Time: 1. Action: (1, 5)\n",
      "INFO:Trace:Time: 2. Action: (1, 5)\n",
      "INFO:Trace:Time: 3. Action: (1, 5)\n",
      "INFO:Trace:Last step reward:  1.000e+00; Cumulative reward: 1.000e+00\n",
      "INFO:Trace:Training iteration 11...\n",
      "INFO:Trace:Time: 1. Action: (1, 5)\n",
      "INFO:Trace:Time: 2. Action: (1, 5)\n",
      "INFO:Trace:Time: 3. Action: (1, 5)\n",
      "INFO:Trace:Last step reward:  1.000e+00; Cumulative reward: 1.000e+00\n",
      "INFO:Trace:Training iteration 12...\n",
      "INFO:Trace:Time: 1. Action: (1, 5)\n",
      "INFO:Trace:Time: 2. Action: (1, 5)\n",
      "INFO:Trace:Time: 3. Action: (1, 5)\n",
      "INFO:Trace:Last step reward:  1.000e+00; Cumulative reward: 1.000e+00\n",
      "INFO:Trace:Run 8...\n",
      "2020-10-10 12:15:47,456\tWARNING util.py:39 -- Install gputil for GPU system monitoring.\n",
      "INFO:Trace:Training iteration 0...\n",
      "INFO:Trace:Time: 1. Action: (19, 28)\n",
      "INFO:Trace:Time: 2. Action: (36, 35)\n",
      "INFO:Trace:Time: 3. Action: (25, 31)\n",
      "INFO:Trace:Last step reward:  0.000e+00; Cumulative reward: 0.000e+00\n",
      "INFO:Trace:Training iteration 1...\n",
      "INFO:Trace:Time: 1. Action: (4, 2)\n",
      "INFO:Trace:Time: 2. Action: (1, 29)\n",
      "INFO:Trace:Time: 3. Action: (6, 15)\n",
      "INFO:Trace:Last step reward:  5.166e-55; Cumulative reward: 5.166e-55\n",
      "INFO:Trace:Training iteration 2...\n",
      "INFO:Trace:Time: 1. Action: (32, 26)\n",
      "INFO:Trace:Time: 2. Action: (34, 23)\n",
      "INFO:Trace:Time: 3. Action: (12, 34)\n",
      "INFO:Trace:Last step reward:  0.000e+00; Cumulative reward: 0.000e+00\n",
      "INFO:Trace:Training iteration 3...\n",
      "INFO:Trace:Time: 1. Action: (41, 0)\n",
      "INFO:Trace:Time: 2. Action: (0, 20)\n",
      "INFO:Trace:Time: 3. Action: (35, 16)\n",
      "INFO:Trace:Last step reward:  0.000e+00; Cumulative reward: 0.000e+00\n",
      "INFO:Trace:Training iteration 4...\n",
      "INFO:Trace:Time: 1. Action: (0, 5)\n",
      "INFO:Trace:Time: 2. Action: (2, 5)\n",
      "INFO:Trace:Time: 3. Action: (0, 5)\n",
      "INFO:Trace:Last step reward:  3.679e-01; Cumulative reward: 3.679e-01\n",
      "INFO:Trace:Training iteration 5...\n",
      "INFO:Trace:Time: 1. Action: (1, 5)\n",
      "INFO:Trace:Time: 2. Action: (1, 5)\n",
      "INFO:Trace:Time: 3. Action: (1, 5)\n",
      "INFO:Trace:Last step reward:  1.000e+00; Cumulative reward: 1.000e+00\n",
      "INFO:Trace:Training iteration 6...\n",
      "INFO:Trace:Time: 1. Action: (1, 5)\n",
      "INFO:Trace:Time: 2. Action: (1, 5)\n",
      "INFO:Trace:Time: 3. Action: (1, 5)\n",
      "INFO:Trace:Last step reward:  1.000e+00; Cumulative reward: 1.000e+00\n",
      "INFO:Trace:Training iteration 7...\n",
      "INFO:Trace:Time: 1. Action: (1, 5)\n",
      "INFO:Trace:Time: 2. Action: (1, 5)\n",
      "INFO:Trace:Time: 3. Action: (1, 5)\n",
      "INFO:Trace:Last step reward:  1.000e+00; Cumulative reward: 1.000e+00\n",
      "INFO:Trace:Training iteration 8...\n",
      "INFO:Trace:Time: 1. Action: (1, 5)\n",
      "INFO:Trace:Time: 2. Action: (1, 5)\n",
      "INFO:Trace:Time: 3. Action: (1, 5)\n",
      "INFO:Trace:Last step reward:  1.000e+00; Cumulative reward: 1.000e+00\n",
      "INFO:Trace:Training iteration 9...\n",
      "INFO:Trace:Time: 1. Action: (1, 5)\n",
      "INFO:Trace:Time: 2. Action: (1, 5)\n",
      "INFO:Trace:Time: 3. Action: (1, 5)\n",
      "INFO:Trace:Last step reward:  1.000e+00; Cumulative reward: 1.000e+00\n",
      "INFO:Trace:Training iteration 10...\n",
      "INFO:Trace:Time: 1. Action: (1, 5)\n",
      "INFO:Trace:Time: 2. Action: (1, 5)\n",
      "INFO:Trace:Time: 3. Action: (1, 5)\n",
      "INFO:Trace:Last step reward:  1.000e+00; Cumulative reward: 1.000e+00\n",
      "INFO:Trace:Training iteration 11...\n",
      "INFO:Trace:Time: 1. Action: (1, 5)\n",
      "INFO:Trace:Time: 2. Action: (1, 5)\n",
      "INFO:Trace:Time: 3. Action: (1, 5)\n",
      "INFO:Trace:Last step reward:  1.000e+00; Cumulative reward: 1.000e+00\n",
      "INFO:Trace:Training iteration 12...\n",
      "INFO:Trace:Time: 1. Action: (1, 5)\n",
      "INFO:Trace:Time: 2. Action: (1, 5)\n",
      "INFO:Trace:Time: 3. Action: (1, 5)\n",
      "INFO:Trace:Last step reward:  1.000e+00; Cumulative reward: 1.000e+00\n",
      "INFO:Trace:Run 9...\n",
      "2020-10-10 12:17:52,084\tWARNING util.py:39 -- Install gputil for GPU system monitoring.\n",
      "INFO:Trace:Training iteration 0...\n",
      "INFO:Trace:Time: 1. Action: (7, 27)\n",
      "INFO:Trace:Time: 2. Action: (30, 8)\n",
      "INFO:Trace:Time: 3. Action: (41, 0)\n",
      "INFO:Trace:Last step reward:  0.000e+00; Cumulative reward: 0.000e+00\n",
      "INFO:Trace:Training iteration 1...\n",
      "INFO:Trace:Time: 1. Action: (7, 9)\n",
      "INFO:Trace:Time: 2. Action: (0, 12)\n",
      "INFO:Trace:Time: 3. Action: (11, 39)\n",
      "INFO:Trace:Last step reward:  0.000e+00; Cumulative reward: 0.000e+00\n",
      "INFO:Trace:Training iteration 2...\n",
      "INFO:Trace:Time: 1. Action: (18, 2)\n",
      "INFO:Trace:Time: 2. Action: (17, 28)\n",
      "INFO:Trace:Time: 3. Action: (14, 4)\n",
      "INFO:Trace:Last step reward:  1.479e-74; Cumulative reward: 1.479e-74\n",
      "INFO:Trace:Training iteration 3...\n",
      "INFO:Trace:Time: 1. Action: (41, 29)\n",
      "INFO:Trace:Time: 2. Action: (23, 21)\n",
      "INFO:Trace:Time: 3. Action: (11, 22)\n",
      "INFO:Trace:Last step reward:  1.147e-169; Cumulative reward: 1.147e-169\n",
      "INFO:Trace:Training iteration 4...\n",
      "INFO:Trace:Time: 1. Action: (17, 1)\n",
      "INFO:Trace:Time: 2. Action: (36, 3)\n",
      "INFO:Trace:Time: 3. Action: (27, 38)\n",
      "INFO:Trace:Last step reward:  0.000e+00; Cumulative reward: 0.000e+00\n",
      "INFO:Trace:Training iteration 5...\n",
      "INFO:Trace:Time: 1. Action: (22, 5)\n",
      "INFO:Trace:Time: 2. Action: (7, 26)\n",
      "INFO:Trace:Time: 3. Action: (21, 37)\n",
      "INFO:Trace:Last step reward:  0.000e+00; Cumulative reward: 0.000e+00\n",
      "INFO:Trace:Training iteration 6...\n",
      "INFO:Trace:Time: 1. Action: (1, 5)\n",
      "INFO:Trace:Time: 2. Action: (1, 5)\n",
      "INFO:Trace:Time: 3. Action: (1, 5)\n",
      "INFO:Trace:Last step reward:  1.000e+00; Cumulative reward: 1.000e+00\n",
      "INFO:Trace:Training iteration 7...\n",
      "INFO:Trace:Time: 1. Action: (1, 5)\n",
      "INFO:Trace:Time: 2. Action: (1, 5)\n",
      "INFO:Trace:Time: 3. Action: (1, 5)\n",
      "INFO:Trace:Last step reward:  1.000e+00; Cumulative reward: 1.000e+00\n",
      "INFO:Trace:Training iteration 8...\n",
      "INFO:Trace:Time: 1. Action: (1, 5)\n",
      "INFO:Trace:Time: 2. Action: (1, 5)\n",
      "INFO:Trace:Time: 3. Action: (1, 5)\n",
      "INFO:Trace:Last step reward:  1.000e+00; Cumulative reward: 1.000e+00\n",
      "INFO:Trace:Training iteration 9...\n",
      "INFO:Trace:Time: 1. Action: (1, 5)\n",
      "INFO:Trace:Time: 2. Action: (1, 5)\n",
      "INFO:Trace:Time: 3. Action: (1, 5)\n",
      "INFO:Trace:Last step reward:  1.000e+00; Cumulative reward: 1.000e+00\n",
      "INFO:Trace:Training iteration 10...\n",
      "INFO:Trace:Time: 1. Action: (1, 5)\n",
      "INFO:Trace:Time: 2. Action: (1, 5)\n",
      "INFO:Trace:Time: 3. Action: (1, 5)\n",
      "INFO:Trace:Last step reward:  1.000e+00; Cumulative reward: 1.000e+00\n",
      "INFO:Trace:Training iteration 11...\n",
      "INFO:Trace:Time: 1. Action: (1, 5)\n",
      "INFO:Trace:Time: 2. Action: (1, 5)\n",
      "INFO:Trace:Time: 3. Action: (1, 5)\n",
      "INFO:Trace:Last step reward:  1.000e+00; Cumulative reward: 1.000e+00\n",
      "INFO:Trace:Training iteration 12...\n",
      "INFO:Trace:Time: 1. Action: (1, 5)\n",
      "INFO:Trace:Time: 2. Action: (1, 5)\n",
      "INFO:Trace:Time: 3. Action: (1, 5)\n",
      "INFO:Trace:Last step reward:  1.000e+00; Cumulative reward: 1.000e+00\n"
     ]
    }
   ],
   "source": [
    "num_runs = 10\n",
    "num_training_iterations = 13\n",
    "logs = []\n",
    "for n in range(num_runs):\n",
    "    logger.info(f\"Run {n}...\")\n",
    "    trainer = A2CTrainer(\n",
    "                env=\"my_env\",\n",
    "                config={\n",
    "                    \"env_config\": {\"task\": task},\n",
    "                    \"framework\": \"torch\",\n",
    "                    \"num_workers\": 1,\n",
    "                    \"train_batch_size\": 10,\n",
    "                    })\n",
    "    log, _ = train(trainer, num_training_iterations)\n",
    "    logs.append(log)"
   ]
  },
  {
   "cell_type": "code",
   "execution_count": 19,
   "metadata": {},
   "outputs": [
    {
     "output_type": "execute_result",
     "data": {
      "text/plain": [
       "Text(0.5, 1.0, \"RL agent's learning curve\")"
      ]
     },
     "metadata": {},
     "execution_count": 19
    },
    {
     "output_type": "display_data",
     "data": {
      "text/plain": "<Figure size 432x288 with 1 Axes>",
      "image/svg+xml": "<?xml version=\"1.0\" encoding=\"utf-8\" standalone=\"no\"?>\n<!DOCTYPE svg PUBLIC \"-//W3C//DTD SVG 1.1//EN\"\n  \"http://www.w3.org/Graphics/SVG/1.1/DTD/svg11.dtd\">\n<!-- Created with matplotlib (https://matplotlib.org/) -->\n<svg height=\"277.314375pt\" version=\"1.1\" viewBox=\"0 0 394.160938 277.314375\" width=\"394.160938pt\" xmlns=\"http://www.w3.org/2000/svg\" xmlns:xlink=\"http://www.w3.org/1999/xlink\">\n <metadata>\n  <rdf:RDF xmlns:cc=\"http://creativecommons.org/ns#\" xmlns:dc=\"http://purl.org/dc/elements/1.1/\" xmlns:rdf=\"http://www.w3.org/1999/02/22-rdf-syntax-ns#\">\n   <cc:Work>\n    <dc:type rdf:resource=\"http://purl.org/dc/dcmitype/StillImage\"/>\n    <dc:date>2020-10-10T12:19:55.355295</dc:date>\n    <dc:format>image/svg+xml</dc:format>\n    <dc:creator>\n     <cc:Agent>\n      <dc:title>Matplotlib v3.3.1, https://matplotlib.org/</dc:title>\n     </cc:Agent>\n    </dc:creator>\n   </cc:Work>\n  </rdf:RDF>\n </metadata>\n <defs>\n  <style type=\"text/css\">*{stroke-linecap:butt;stroke-linejoin:round;}</style>\n </defs>\n <g id=\"figure_1\">\n  <g id=\"patch_1\">\n   <path d=\"M 0 277.314375 \nL 394.160938 277.314375 \nL 394.160938 0 \nL 0 0 \nz\n\" style=\"fill:none;\"/>\n  </g>\n  <g id=\"axes_1\">\n   <g id=\"patch_2\">\n    <path d=\"M 52.160938 239.758125 \nL 386.960938 239.758125 \nL 386.960938 22.318125 \nL 52.160938 22.318125 \nz\n\" style=\"fill:#ffffff;\"/>\n   </g>\n   <g id=\"PolyCollection_1\">\n    <path clip-path=\"url(#pb72377d4ec)\" d=\"M 67.379119 206.15126 \nL 67.379119 206.15126 \nL 92.742756 206.15126 \nL 118.106392 206.15126 \nL 143.470028 206.15126 \nL 168.833665 229.874489 \nL 194.197301 207.743051 \nL 219.560938 155.511275 \nL 244.924574 144.645541 \nL 270.28821 114.133487 \nL 295.651847 114.133487 \nL 321.015483 132.006893 \nL 346.379119 114.133487 \nL 371.742756 114.133487 \nL 371.742756 39.168146 \nL 371.742756 39.168146 \nL 346.379119 39.168146 \nL 321.015483 32.201761 \nL 295.651847 39.168146 \nL 270.28821 39.168146 \nL 244.924574 38.304448 \nL 219.560938 46.180049 \nL 194.197301 71.046556 \nL 168.833665 112.2243 \nL 143.470028 206.15126 \nL 118.106392 206.15126 \nL 92.742756 206.15126 \nL 67.379119 206.15126 \nz\n\" style=\"fill:#1f77b4;fill-opacity:0.5;\"/>\n   </g>\n   <g id=\"matplotlib.axis_1\">\n    <g id=\"xtick_1\">\n     <g id=\"line2d_1\">\n      <defs>\n       <path d=\"M 0 0 \nL 0 3.5 \n\" id=\"ma5f3ca329c\" style=\"stroke:#000000;stroke-width:0.8;\"/>\n      </defs>\n      <g>\n       <use style=\"stroke:#000000;stroke-width:0.8;\" x=\"67.379119\" xlink:href=\"#ma5f3ca329c\" y=\"239.758125\"/>\n      </g>\n     </g>\n     <g id=\"text_1\">\n      <!-- 0 -->\n      <g transform=\"translate(64.197869 254.356562)scale(0.1 -0.1)\">\n       <defs>\n        <path d=\"M 31.78125 66.40625 \nQ 24.171875 66.40625 20.328125 58.90625 \nQ 16.5 51.421875 16.5 36.375 \nQ 16.5 21.390625 20.328125 13.890625 \nQ 24.171875 6.390625 31.78125 6.390625 \nQ 39.453125 6.390625 43.28125 13.890625 \nQ 47.125 21.390625 47.125 36.375 \nQ 47.125 51.421875 43.28125 58.90625 \nQ 39.453125 66.40625 31.78125 66.40625 \nz\nM 31.78125 74.21875 \nQ 44.046875 74.21875 50.515625 64.515625 \nQ 56.984375 54.828125 56.984375 36.375 \nQ 56.984375 17.96875 50.515625 8.265625 \nQ 44.046875 -1.421875 31.78125 -1.421875 \nQ 19.53125 -1.421875 13.0625 8.265625 \nQ 6.59375 17.96875 6.59375 36.375 \nQ 6.59375 54.828125 13.0625 64.515625 \nQ 19.53125 74.21875 31.78125 74.21875 \nz\n\" id=\"DejaVuSans-48\"/>\n       </defs>\n       <use xlink:href=\"#DejaVuSans-48\"/>\n      </g>\n     </g>\n    </g>\n    <g id=\"xtick_2\">\n     <g id=\"line2d_2\">\n      <g>\n       <use style=\"stroke:#000000;stroke-width:0.8;\" x=\"118.106392\" xlink:href=\"#ma5f3ca329c\" y=\"239.758125\"/>\n      </g>\n     </g>\n     <g id=\"text_2\">\n      <!-- 2 -->\n      <g transform=\"translate(114.925142 254.356562)scale(0.1 -0.1)\">\n       <defs>\n        <path d=\"M 19.1875 8.296875 \nL 53.609375 8.296875 \nL 53.609375 0 \nL 7.328125 0 \nL 7.328125 8.296875 \nQ 12.9375 14.109375 22.625 23.890625 \nQ 32.328125 33.6875 34.8125 36.53125 \nQ 39.546875 41.84375 41.421875 45.53125 \nQ 43.3125 49.21875 43.3125 52.78125 \nQ 43.3125 58.59375 39.234375 62.25 \nQ 35.15625 65.921875 28.609375 65.921875 \nQ 23.96875 65.921875 18.8125 64.3125 \nQ 13.671875 62.703125 7.8125 59.421875 \nL 7.8125 69.390625 \nQ 13.765625 71.78125 18.9375 73 \nQ 24.125 74.21875 28.421875 74.21875 \nQ 39.75 74.21875 46.484375 68.546875 \nQ 53.21875 62.890625 53.21875 53.421875 \nQ 53.21875 48.921875 51.53125 44.890625 \nQ 49.859375 40.875 45.40625 35.40625 \nQ 44.1875 33.984375 37.640625 27.21875 \nQ 31.109375 20.453125 19.1875 8.296875 \nz\n\" id=\"DejaVuSans-50\"/>\n       </defs>\n       <use xlink:href=\"#DejaVuSans-50\"/>\n      </g>\n     </g>\n    </g>\n    <g id=\"xtick_3\">\n     <g id=\"line2d_3\">\n      <g>\n       <use style=\"stroke:#000000;stroke-width:0.8;\" x=\"168.833665\" xlink:href=\"#ma5f3ca329c\" y=\"239.758125\"/>\n      </g>\n     </g>\n     <g id=\"text_3\">\n      <!-- 4 -->\n      <g transform=\"translate(165.652415 254.356562)scale(0.1 -0.1)\">\n       <defs>\n        <path d=\"M 37.796875 64.3125 \nL 12.890625 25.390625 \nL 37.796875 25.390625 \nz\nM 35.203125 72.90625 \nL 47.609375 72.90625 \nL 47.609375 25.390625 \nL 58.015625 25.390625 \nL 58.015625 17.1875 \nL 47.609375 17.1875 \nL 47.609375 0 \nL 37.796875 0 \nL 37.796875 17.1875 \nL 4.890625 17.1875 \nL 4.890625 26.703125 \nz\n\" id=\"DejaVuSans-52\"/>\n       </defs>\n       <use xlink:href=\"#DejaVuSans-52\"/>\n      </g>\n     </g>\n    </g>\n    <g id=\"xtick_4\">\n     <g id=\"line2d_4\">\n      <g>\n       <use style=\"stroke:#000000;stroke-width:0.8;\" x=\"219.560938\" xlink:href=\"#ma5f3ca329c\" y=\"239.758125\"/>\n      </g>\n     </g>\n     <g id=\"text_4\">\n      <!-- 6 -->\n      <g transform=\"translate(216.379688 254.356562)scale(0.1 -0.1)\">\n       <defs>\n        <path d=\"M 33.015625 40.375 \nQ 26.375 40.375 22.484375 35.828125 \nQ 18.609375 31.296875 18.609375 23.390625 \nQ 18.609375 15.53125 22.484375 10.953125 \nQ 26.375 6.390625 33.015625 6.390625 \nQ 39.65625 6.390625 43.53125 10.953125 \nQ 47.40625 15.53125 47.40625 23.390625 \nQ 47.40625 31.296875 43.53125 35.828125 \nQ 39.65625 40.375 33.015625 40.375 \nz\nM 52.59375 71.296875 \nL 52.59375 62.3125 \nQ 48.875 64.0625 45.09375 64.984375 \nQ 41.3125 65.921875 37.59375 65.921875 \nQ 27.828125 65.921875 22.671875 59.328125 \nQ 17.53125 52.734375 16.796875 39.40625 \nQ 19.671875 43.65625 24.015625 45.921875 \nQ 28.375 48.1875 33.59375 48.1875 \nQ 44.578125 48.1875 50.953125 41.515625 \nQ 57.328125 34.859375 57.328125 23.390625 \nQ 57.328125 12.15625 50.6875 5.359375 \nQ 44.046875 -1.421875 33.015625 -1.421875 \nQ 20.359375 -1.421875 13.671875 8.265625 \nQ 6.984375 17.96875 6.984375 36.375 \nQ 6.984375 53.65625 15.1875 63.9375 \nQ 23.390625 74.21875 37.203125 74.21875 \nQ 40.921875 74.21875 44.703125 73.484375 \nQ 48.484375 72.75 52.59375 71.296875 \nz\n\" id=\"DejaVuSans-54\"/>\n       </defs>\n       <use xlink:href=\"#DejaVuSans-54\"/>\n      </g>\n     </g>\n    </g>\n    <g id=\"xtick_5\">\n     <g id=\"line2d_5\">\n      <g>\n       <use style=\"stroke:#000000;stroke-width:0.8;\" x=\"270.28821\" xlink:href=\"#ma5f3ca329c\" y=\"239.758125\"/>\n      </g>\n     </g>\n     <g id=\"text_5\">\n      <!-- 8 -->\n      <g transform=\"translate(267.10696 254.356562)scale(0.1 -0.1)\">\n       <defs>\n        <path d=\"M 31.78125 34.625 \nQ 24.75 34.625 20.71875 30.859375 \nQ 16.703125 27.09375 16.703125 20.515625 \nQ 16.703125 13.921875 20.71875 10.15625 \nQ 24.75 6.390625 31.78125 6.390625 \nQ 38.8125 6.390625 42.859375 10.171875 \nQ 46.921875 13.96875 46.921875 20.515625 \nQ 46.921875 27.09375 42.890625 30.859375 \nQ 38.875 34.625 31.78125 34.625 \nz\nM 21.921875 38.8125 \nQ 15.578125 40.375 12.03125 44.71875 \nQ 8.5 49.078125 8.5 55.328125 \nQ 8.5 64.0625 14.71875 69.140625 \nQ 20.953125 74.21875 31.78125 74.21875 \nQ 42.671875 74.21875 48.875 69.140625 \nQ 55.078125 64.0625 55.078125 55.328125 \nQ 55.078125 49.078125 51.53125 44.71875 \nQ 48 40.375 41.703125 38.8125 \nQ 48.828125 37.15625 52.796875 32.3125 \nQ 56.78125 27.484375 56.78125 20.515625 \nQ 56.78125 9.90625 50.3125 4.234375 \nQ 43.84375 -1.421875 31.78125 -1.421875 \nQ 19.734375 -1.421875 13.25 4.234375 \nQ 6.78125 9.90625 6.78125 20.515625 \nQ 6.78125 27.484375 10.78125 32.3125 \nQ 14.796875 37.15625 21.921875 38.8125 \nz\nM 18.3125 54.390625 \nQ 18.3125 48.734375 21.84375 45.5625 \nQ 25.390625 42.390625 31.78125 42.390625 \nQ 38.140625 42.390625 41.71875 45.5625 \nQ 45.3125 48.734375 45.3125 54.390625 \nQ 45.3125 60.0625 41.71875 63.234375 \nQ 38.140625 66.40625 31.78125 66.40625 \nQ 25.390625 66.40625 21.84375 63.234375 \nQ 18.3125 60.0625 18.3125 54.390625 \nz\n\" id=\"DejaVuSans-56\"/>\n       </defs>\n       <use xlink:href=\"#DejaVuSans-56\"/>\n      </g>\n     </g>\n    </g>\n    <g id=\"xtick_6\">\n     <g id=\"line2d_6\">\n      <g>\n       <use style=\"stroke:#000000;stroke-width:0.8;\" x=\"321.015483\" xlink:href=\"#ma5f3ca329c\" y=\"239.758125\"/>\n      </g>\n     </g>\n     <g id=\"text_6\">\n      <!-- 10 -->\n      <g transform=\"translate(314.652983 254.356562)scale(0.1 -0.1)\">\n       <defs>\n        <path d=\"M 12.40625 8.296875 \nL 28.515625 8.296875 \nL 28.515625 63.921875 \nL 10.984375 60.40625 \nL 10.984375 69.390625 \nL 28.421875 72.90625 \nL 38.28125 72.90625 \nL 38.28125 8.296875 \nL 54.390625 8.296875 \nL 54.390625 0 \nL 12.40625 0 \nz\n\" id=\"DejaVuSans-49\"/>\n       </defs>\n       <use xlink:href=\"#DejaVuSans-49\"/>\n       <use x=\"63.623047\" xlink:href=\"#DejaVuSans-48\"/>\n      </g>\n     </g>\n    </g>\n    <g id=\"xtick_7\">\n     <g id=\"line2d_7\">\n      <g>\n       <use style=\"stroke:#000000;stroke-width:0.8;\" x=\"371.742756\" xlink:href=\"#ma5f3ca329c\" y=\"239.758125\"/>\n      </g>\n     </g>\n     <g id=\"text_7\">\n      <!-- 12 -->\n      <g transform=\"translate(365.380256 254.356562)scale(0.1 -0.1)\">\n       <use xlink:href=\"#DejaVuSans-49\"/>\n       <use x=\"63.623047\" xlink:href=\"#DejaVuSans-50\"/>\n      </g>\n     </g>\n    </g>\n    <g id=\"text_8\">\n     <!-- Time -->\n     <g transform=\"translate(207.327344 268.034687)scale(0.1 -0.1)\">\n      <defs>\n       <path d=\"M -0.296875 72.90625 \nL 61.375 72.90625 \nL 61.375 64.59375 \nL 35.5 64.59375 \nL 35.5 0 \nL 25.59375 0 \nL 25.59375 64.59375 \nL -0.296875 64.59375 \nz\n\" id=\"DejaVuSans-84\"/>\n       <path d=\"M 9.421875 54.6875 \nL 18.40625 54.6875 \nL 18.40625 0 \nL 9.421875 0 \nz\nM 9.421875 75.984375 \nL 18.40625 75.984375 \nL 18.40625 64.59375 \nL 9.421875 64.59375 \nz\n\" id=\"DejaVuSans-105\"/>\n       <path d=\"M 52 44.1875 \nQ 55.375 50.25 60.0625 53.125 \nQ 64.75 56 71.09375 56 \nQ 79.640625 56 84.28125 50.015625 \nQ 88.921875 44.046875 88.921875 33.015625 \nL 88.921875 0 \nL 79.890625 0 \nL 79.890625 32.71875 \nQ 79.890625 40.578125 77.09375 44.375 \nQ 74.3125 48.1875 68.609375 48.1875 \nQ 61.625 48.1875 57.5625 43.546875 \nQ 53.515625 38.921875 53.515625 30.90625 \nL 53.515625 0 \nL 44.484375 0 \nL 44.484375 32.71875 \nQ 44.484375 40.625 41.703125 44.40625 \nQ 38.921875 48.1875 33.109375 48.1875 \nQ 26.21875 48.1875 22.15625 43.53125 \nQ 18.109375 38.875 18.109375 30.90625 \nL 18.109375 0 \nL 9.078125 0 \nL 9.078125 54.6875 \nL 18.109375 54.6875 \nL 18.109375 46.1875 \nQ 21.1875 51.21875 25.484375 53.609375 \nQ 29.78125 56 35.6875 56 \nQ 41.65625 56 45.828125 52.96875 \nQ 50 49.953125 52 44.1875 \nz\n\" id=\"DejaVuSans-109\"/>\n       <path d=\"M 56.203125 29.59375 \nL 56.203125 25.203125 \nL 14.890625 25.203125 \nQ 15.484375 15.921875 20.484375 11.0625 \nQ 25.484375 6.203125 34.421875 6.203125 \nQ 39.59375 6.203125 44.453125 7.46875 \nQ 49.3125 8.734375 54.109375 11.28125 \nL 54.109375 2.78125 \nQ 49.265625 0.734375 44.1875 -0.34375 \nQ 39.109375 -1.421875 33.890625 -1.421875 \nQ 20.796875 -1.421875 13.15625 6.1875 \nQ 5.515625 13.8125 5.515625 26.8125 \nQ 5.515625 40.234375 12.765625 48.109375 \nQ 20.015625 56 32.328125 56 \nQ 43.359375 56 49.78125 48.890625 \nQ 56.203125 41.796875 56.203125 29.59375 \nz\nM 47.21875 32.234375 \nQ 47.125 39.59375 43.09375 43.984375 \nQ 39.0625 48.390625 32.421875 48.390625 \nQ 24.90625 48.390625 20.390625 44.140625 \nQ 15.875 39.890625 15.1875 32.171875 \nz\n\" id=\"DejaVuSans-101\"/>\n      </defs>\n      <use xlink:href=\"#DejaVuSans-84\"/>\n      <use x=\"57.958984\" xlink:href=\"#DejaVuSans-105\"/>\n      <use x=\"85.742188\" xlink:href=\"#DejaVuSans-109\"/>\n      <use x=\"183.154297\" xlink:href=\"#DejaVuSans-101\"/>\n     </g>\n    </g>\n   </g>\n   <g id=\"matplotlib.axis_2\">\n    <g id=\"ytick_1\">\n     <g id=\"line2d_8\">\n      <defs>\n       <path d=\"M 0 0 \nL -3.5 0 \n\" id=\"m15202f6345\" style=\"stroke:#000000;stroke-width:0.8;\"/>\n      </defs>\n      <g>\n       <use style=\"stroke:#000000;stroke-width:0.8;\" x=\"52.160938\" xlink:href=\"#m15202f6345\" y=\"235.799616\"/>\n      </g>\n     </g>\n     <g id=\"text_9\">\n      <!-- −0.2 -->\n      <g transform=\"translate(20.878125 239.598835)scale(0.1 -0.1)\">\n       <defs>\n        <path d=\"M 10.59375 35.5 \nL 73.1875 35.5 \nL 73.1875 27.203125 \nL 10.59375 27.203125 \nz\n\" id=\"DejaVuSans-8722\"/>\n        <path d=\"M 10.6875 12.40625 \nL 21 12.40625 \nL 21 0 \nL 10.6875 0 \nz\n\" id=\"DejaVuSans-46\"/>\n       </defs>\n       <use xlink:href=\"#DejaVuSans-8722\"/>\n       <use x=\"83.789062\" xlink:href=\"#DejaVuSans-48\"/>\n       <use x=\"147.412109\" xlink:href=\"#DejaVuSans-46\"/>\n       <use x=\"179.199219\" xlink:href=\"#DejaVuSans-50\"/>\n      </g>\n     </g>\n    </g>\n    <g id=\"ytick_2\">\n     <g id=\"line2d_9\">\n      <g>\n       <use style=\"stroke:#000000;stroke-width:0.8;\" x=\"52.160938\" xlink:href=\"#m15202f6345\" y=\"206.15126\"/>\n      </g>\n     </g>\n     <g id=\"text_10\">\n      <!-- 0.0 -->\n      <g transform=\"translate(29.257812 209.950479)scale(0.1 -0.1)\">\n       <use xlink:href=\"#DejaVuSans-48\"/>\n       <use x=\"63.623047\" xlink:href=\"#DejaVuSans-46\"/>\n       <use x=\"95.410156\" xlink:href=\"#DejaVuSans-48\"/>\n      </g>\n     </g>\n    </g>\n    <g id=\"ytick_3\">\n     <g id=\"line2d_10\">\n      <g>\n       <use style=\"stroke:#000000;stroke-width:0.8;\" x=\"52.160938\" xlink:href=\"#m15202f6345\" y=\"176.502904\"/>\n      </g>\n     </g>\n     <g id=\"text_11\">\n      <!-- 0.2 -->\n      <g transform=\"translate(29.257812 180.302123)scale(0.1 -0.1)\">\n       <use xlink:href=\"#DejaVuSans-48\"/>\n       <use x=\"63.623047\" xlink:href=\"#DejaVuSans-46\"/>\n       <use x=\"95.410156\" xlink:href=\"#DejaVuSans-50\"/>\n      </g>\n     </g>\n    </g>\n    <g id=\"ytick_4\">\n     <g id=\"line2d_11\">\n      <g>\n       <use style=\"stroke:#000000;stroke-width:0.8;\" x=\"52.160938\" xlink:href=\"#m15202f6345\" y=\"146.854549\"/>\n      </g>\n     </g>\n     <g id=\"text_12\">\n      <!-- 0.4 -->\n      <g transform=\"translate(29.257812 150.653768)scale(0.1 -0.1)\">\n       <use xlink:href=\"#DejaVuSans-48\"/>\n       <use x=\"63.623047\" xlink:href=\"#DejaVuSans-46\"/>\n       <use x=\"95.410156\" xlink:href=\"#DejaVuSans-52\"/>\n      </g>\n     </g>\n    </g>\n    <g id=\"ytick_5\">\n     <g id=\"line2d_12\">\n      <g>\n       <use style=\"stroke:#000000;stroke-width:0.8;\" x=\"52.160938\" xlink:href=\"#m15202f6345\" y=\"117.206193\"/>\n      </g>\n     </g>\n     <g id=\"text_13\">\n      <!-- 0.6 -->\n      <g transform=\"translate(29.257812 121.005412)scale(0.1 -0.1)\">\n       <use xlink:href=\"#DejaVuSans-48\"/>\n       <use x=\"63.623047\" xlink:href=\"#DejaVuSans-46\"/>\n       <use x=\"95.410156\" xlink:href=\"#DejaVuSans-54\"/>\n      </g>\n     </g>\n    </g>\n    <g id=\"ytick_6\">\n     <g id=\"line2d_13\">\n      <g>\n       <use style=\"stroke:#000000;stroke-width:0.8;\" x=\"52.160938\" xlink:href=\"#m15202f6345\" y=\"87.557837\"/>\n      </g>\n     </g>\n     <g id=\"text_14\">\n      <!-- 0.8 -->\n      <g transform=\"translate(29.257812 91.357056)scale(0.1 -0.1)\">\n       <use xlink:href=\"#DejaVuSans-48\"/>\n       <use x=\"63.623047\" xlink:href=\"#DejaVuSans-46\"/>\n       <use x=\"95.410156\" xlink:href=\"#DejaVuSans-56\"/>\n      </g>\n     </g>\n    </g>\n    <g id=\"ytick_7\">\n     <g id=\"line2d_14\">\n      <g>\n       <use style=\"stroke:#000000;stroke-width:0.8;\" x=\"52.160938\" xlink:href=\"#m15202f6345\" y=\"57.909482\"/>\n      </g>\n     </g>\n     <g id=\"text_15\">\n      <!-- 1.0 -->\n      <g transform=\"translate(29.257812 61.7087)scale(0.1 -0.1)\">\n       <use xlink:href=\"#DejaVuSans-49\"/>\n       <use x=\"63.623047\" xlink:href=\"#DejaVuSans-46\"/>\n       <use x=\"95.410156\" xlink:href=\"#DejaVuSans-48\"/>\n      </g>\n     </g>\n    </g>\n    <g id=\"ytick_8\">\n     <g id=\"line2d_15\">\n      <g>\n       <use style=\"stroke:#000000;stroke-width:0.8;\" x=\"52.160938\" xlink:href=\"#m15202f6345\" y=\"28.261126\"/>\n      </g>\n     </g>\n     <g id=\"text_16\">\n      <!-- 1.2 -->\n      <g transform=\"translate(29.257812 32.060345)scale(0.1 -0.1)\">\n       <use xlink:href=\"#DejaVuSans-49\"/>\n       <use x=\"63.623047\" xlink:href=\"#DejaVuSans-46\"/>\n       <use x=\"95.410156\" xlink:href=\"#DejaVuSans-50\"/>\n      </g>\n     </g>\n    </g>\n    <g id=\"text_17\">\n     <!-- Reward -->\n     <g transform=\"translate(14.798437 149.659219)rotate(-90)scale(0.1 -0.1)\">\n      <defs>\n       <path d=\"M 44.390625 34.1875 \nQ 47.5625 33.109375 50.5625 29.59375 \nQ 53.5625 26.078125 56.59375 19.921875 \nL 66.609375 0 \nL 56 0 \nL 46.6875 18.703125 \nQ 43.0625 26.03125 39.671875 28.421875 \nQ 36.28125 30.8125 30.421875 30.8125 \nL 19.671875 30.8125 \nL 19.671875 0 \nL 9.8125 0 \nL 9.8125 72.90625 \nL 32.078125 72.90625 \nQ 44.578125 72.90625 50.734375 67.671875 \nQ 56.890625 62.453125 56.890625 51.90625 \nQ 56.890625 45.015625 53.6875 40.46875 \nQ 50.484375 35.9375 44.390625 34.1875 \nz\nM 19.671875 64.796875 \nL 19.671875 38.921875 \nL 32.078125 38.921875 \nQ 39.203125 38.921875 42.84375 42.21875 \nQ 46.484375 45.515625 46.484375 51.90625 \nQ 46.484375 58.296875 42.84375 61.546875 \nQ 39.203125 64.796875 32.078125 64.796875 \nz\n\" id=\"DejaVuSans-82\"/>\n       <path d=\"M 4.203125 54.6875 \nL 13.1875 54.6875 \nL 24.421875 12.015625 \nL 35.59375 54.6875 \nL 46.1875 54.6875 \nL 57.421875 12.015625 \nL 68.609375 54.6875 \nL 77.59375 54.6875 \nL 63.28125 0 \nL 52.6875 0 \nL 40.921875 44.828125 \nL 29.109375 0 \nL 18.5 0 \nz\n\" id=\"DejaVuSans-119\"/>\n       <path d=\"M 34.28125 27.484375 \nQ 23.390625 27.484375 19.1875 25 \nQ 14.984375 22.515625 14.984375 16.5 \nQ 14.984375 11.71875 18.140625 8.90625 \nQ 21.296875 6.109375 26.703125 6.109375 \nQ 34.1875 6.109375 38.703125 11.40625 \nQ 43.21875 16.703125 43.21875 25.484375 \nL 43.21875 27.484375 \nz\nM 52.203125 31.203125 \nL 52.203125 0 \nL 43.21875 0 \nL 43.21875 8.296875 \nQ 40.140625 3.328125 35.546875 0.953125 \nQ 30.953125 -1.421875 24.3125 -1.421875 \nQ 15.921875 -1.421875 10.953125 3.296875 \nQ 6 8.015625 6 15.921875 \nQ 6 25.140625 12.171875 29.828125 \nQ 18.359375 34.515625 30.609375 34.515625 \nL 43.21875 34.515625 \nL 43.21875 35.40625 \nQ 43.21875 41.609375 39.140625 45 \nQ 35.0625 48.390625 27.6875 48.390625 \nQ 23 48.390625 18.546875 47.265625 \nQ 14.109375 46.140625 10.015625 43.890625 \nL 10.015625 52.203125 \nQ 14.9375 54.109375 19.578125 55.046875 \nQ 24.21875 56 28.609375 56 \nQ 40.484375 56 46.34375 49.84375 \nQ 52.203125 43.703125 52.203125 31.203125 \nz\n\" id=\"DejaVuSans-97\"/>\n       <path d=\"M 41.109375 46.296875 \nQ 39.59375 47.171875 37.8125 47.578125 \nQ 36.03125 48 33.890625 48 \nQ 26.265625 48 22.1875 43.046875 \nQ 18.109375 38.09375 18.109375 28.8125 \nL 18.109375 0 \nL 9.078125 0 \nL 9.078125 54.6875 \nL 18.109375 54.6875 \nL 18.109375 46.1875 \nQ 20.953125 51.171875 25.484375 53.578125 \nQ 30.03125 56 36.53125 56 \nQ 37.453125 56 38.578125 55.875 \nQ 39.703125 55.765625 41.0625 55.515625 \nz\n\" id=\"DejaVuSans-114\"/>\n       <path d=\"M 45.40625 46.390625 \nL 45.40625 75.984375 \nL 54.390625 75.984375 \nL 54.390625 0 \nL 45.40625 0 \nL 45.40625 8.203125 \nQ 42.578125 3.328125 38.25 0.953125 \nQ 33.9375 -1.421875 27.875 -1.421875 \nQ 17.96875 -1.421875 11.734375 6.484375 \nQ 5.515625 14.40625 5.515625 27.296875 \nQ 5.515625 40.1875 11.734375 48.09375 \nQ 17.96875 56 27.875 56 \nQ 33.9375 56 38.25 53.625 \nQ 42.578125 51.265625 45.40625 46.390625 \nz\nM 14.796875 27.296875 \nQ 14.796875 17.390625 18.875 11.75 \nQ 22.953125 6.109375 30.078125 6.109375 \nQ 37.203125 6.109375 41.296875 11.75 \nQ 45.40625 17.390625 45.40625 27.296875 \nQ 45.40625 37.203125 41.296875 42.84375 \nQ 37.203125 48.484375 30.078125 48.484375 \nQ 22.953125 48.484375 18.875 42.84375 \nQ 14.796875 37.203125 14.796875 27.296875 \nz\n\" id=\"DejaVuSans-100\"/>\n      </defs>\n      <use xlink:href=\"#DejaVuSans-82\"/>\n      <use x=\"64.982422\" xlink:href=\"#DejaVuSans-101\"/>\n      <use x=\"126.505859\" xlink:href=\"#DejaVuSans-119\"/>\n      <use x=\"208.292969\" xlink:href=\"#DejaVuSans-97\"/>\n      <use x=\"269.572266\" xlink:href=\"#DejaVuSans-114\"/>\n      <use x=\"308.935547\" xlink:href=\"#DejaVuSans-100\"/>\n     </g>\n    </g>\n   </g>\n   <g id=\"line2d_16\">\n    <path clip-path=\"url(#pb72377d4ec)\" d=\"M 67.379119 206.15126 \nL 92.742756 206.15126 \nL 118.106392 206.15126 \nL 143.470028 206.15126 \nL 168.833665 171.049394 \nL 194.197301 139.394804 \nL 219.560938 100.845662 \nL 244.924574 91.474995 \nL 270.28821 76.650817 \nL 295.651847 76.650817 \nL 321.015483 82.104327 \nL 346.379119 76.650817 \nL 371.742756 76.650817 \n\" style=\"fill:none;stroke:#1f77b4;stroke-linecap:square;stroke-width:1.5;\"/>\n   </g>\n   <g id=\"patch_3\">\n    <path d=\"M 52.160938 239.758125 \nL 52.160938 22.318125 \n\" style=\"fill:none;stroke:#000000;stroke-linecap:square;stroke-linejoin:miter;stroke-width:0.8;\"/>\n   </g>\n   <g id=\"patch_4\">\n    <path d=\"M 386.960938 239.758125 \nL 386.960938 22.318125 \n\" style=\"fill:none;stroke:#000000;stroke-linecap:square;stroke-linejoin:miter;stroke-width:0.8;\"/>\n   </g>\n   <g id=\"patch_5\">\n    <path d=\"M 52.160938 239.758125 \nL 386.960938 239.758125 \n\" style=\"fill:none;stroke:#000000;stroke-linecap:square;stroke-linejoin:miter;stroke-width:0.8;\"/>\n   </g>\n   <g id=\"patch_6\">\n    <path d=\"M 52.160938 22.318125 \nL 386.960938 22.318125 \n\" style=\"fill:none;stroke:#000000;stroke-linecap:square;stroke-linejoin:miter;stroke-width:0.8;\"/>\n   </g>\n   <g id=\"text_18\">\n    <!-- RL agent's learning curve -->\n    <g transform=\"translate(142.931563 16.318125)scale(0.12 -0.12)\">\n     <defs>\n      <path d=\"M 9.8125 72.90625 \nL 19.671875 72.90625 \nL 19.671875 8.296875 \nL 55.171875 8.296875 \nL 55.171875 0 \nL 9.8125 0 \nz\n\" id=\"DejaVuSans-76\"/>\n      <path id=\"DejaVuSans-32\"/>\n      <path d=\"M 45.40625 27.984375 \nQ 45.40625 37.75 41.375 43.109375 \nQ 37.359375 48.484375 30.078125 48.484375 \nQ 22.859375 48.484375 18.828125 43.109375 \nQ 14.796875 37.75 14.796875 27.984375 \nQ 14.796875 18.265625 18.828125 12.890625 \nQ 22.859375 7.515625 30.078125 7.515625 \nQ 37.359375 7.515625 41.375 12.890625 \nQ 45.40625 18.265625 45.40625 27.984375 \nz\nM 54.390625 6.78125 \nQ 54.390625 -7.171875 48.1875 -13.984375 \nQ 42 -20.796875 29.203125 -20.796875 \nQ 24.46875 -20.796875 20.265625 -20.09375 \nQ 16.0625 -19.390625 12.109375 -17.921875 \nL 12.109375 -9.1875 \nQ 16.0625 -11.328125 19.921875 -12.34375 \nQ 23.78125 -13.375 27.78125 -13.375 \nQ 36.625 -13.375 41.015625 -8.765625 \nQ 45.40625 -4.15625 45.40625 5.171875 \nL 45.40625 9.625 \nQ 42.625 4.78125 38.28125 2.390625 \nQ 33.9375 0 27.875 0 \nQ 17.828125 0 11.671875 7.65625 \nQ 5.515625 15.328125 5.515625 27.984375 \nQ 5.515625 40.671875 11.671875 48.328125 \nQ 17.828125 56 27.875 56 \nQ 33.9375 56 38.28125 53.609375 \nQ 42.625 51.21875 45.40625 46.390625 \nL 45.40625 54.6875 \nL 54.390625 54.6875 \nz\n\" id=\"DejaVuSans-103\"/>\n      <path d=\"M 54.890625 33.015625 \nL 54.890625 0 \nL 45.90625 0 \nL 45.90625 32.71875 \nQ 45.90625 40.484375 42.875 44.328125 \nQ 39.84375 48.1875 33.796875 48.1875 \nQ 26.515625 48.1875 22.3125 43.546875 \nQ 18.109375 38.921875 18.109375 30.90625 \nL 18.109375 0 \nL 9.078125 0 \nL 9.078125 54.6875 \nL 18.109375 54.6875 \nL 18.109375 46.1875 \nQ 21.34375 51.125 25.703125 53.5625 \nQ 30.078125 56 35.796875 56 \nQ 45.21875 56 50.046875 50.171875 \nQ 54.890625 44.34375 54.890625 33.015625 \nz\n\" id=\"DejaVuSans-110\"/>\n      <path d=\"M 18.3125 70.21875 \nL 18.3125 54.6875 \nL 36.8125 54.6875 \nL 36.8125 47.703125 \nL 18.3125 47.703125 \nL 18.3125 18.015625 \nQ 18.3125 11.328125 20.140625 9.421875 \nQ 21.96875 7.515625 27.59375 7.515625 \nL 36.8125 7.515625 \nL 36.8125 0 \nL 27.59375 0 \nQ 17.1875 0 13.234375 3.875 \nQ 9.28125 7.765625 9.28125 18.015625 \nL 9.28125 47.703125 \nL 2.6875 47.703125 \nL 2.6875 54.6875 \nL 9.28125 54.6875 \nL 9.28125 70.21875 \nz\n\" id=\"DejaVuSans-116\"/>\n      <path d=\"M 17.921875 72.90625 \nL 17.921875 45.796875 \nL 9.625 45.796875 \nL 9.625 72.90625 \nz\n\" id=\"DejaVuSans-39\"/>\n      <path d=\"M 44.28125 53.078125 \nL 44.28125 44.578125 \nQ 40.484375 46.53125 36.375 47.5 \nQ 32.28125 48.484375 27.875 48.484375 \nQ 21.1875 48.484375 17.84375 46.4375 \nQ 14.5 44.390625 14.5 40.28125 \nQ 14.5 37.15625 16.890625 35.375 \nQ 19.28125 33.59375 26.515625 31.984375 \nL 29.59375 31.296875 \nQ 39.15625 29.25 43.1875 25.515625 \nQ 47.21875 21.78125 47.21875 15.09375 \nQ 47.21875 7.46875 41.1875 3.015625 \nQ 35.15625 -1.421875 24.609375 -1.421875 \nQ 20.21875 -1.421875 15.453125 -0.5625 \nQ 10.6875 0.296875 5.421875 2 \nL 5.421875 11.28125 \nQ 10.40625 8.6875 15.234375 7.390625 \nQ 20.0625 6.109375 24.8125 6.109375 \nQ 31.15625 6.109375 34.5625 8.28125 \nQ 37.984375 10.453125 37.984375 14.40625 \nQ 37.984375 18.0625 35.515625 20.015625 \nQ 33.0625 21.96875 24.703125 23.78125 \nL 21.578125 24.515625 \nQ 13.234375 26.265625 9.515625 29.90625 \nQ 5.8125 33.546875 5.8125 39.890625 \nQ 5.8125 47.609375 11.28125 51.796875 \nQ 16.75 56 26.8125 56 \nQ 31.78125 56 36.171875 55.265625 \nQ 40.578125 54.546875 44.28125 53.078125 \nz\n\" id=\"DejaVuSans-115\"/>\n      <path d=\"M 9.421875 75.984375 \nL 18.40625 75.984375 \nL 18.40625 0 \nL 9.421875 0 \nz\n\" id=\"DejaVuSans-108\"/>\n      <path d=\"M 48.78125 52.59375 \nL 48.78125 44.1875 \nQ 44.96875 46.296875 41.140625 47.34375 \nQ 37.3125 48.390625 33.40625 48.390625 \nQ 24.65625 48.390625 19.8125 42.84375 \nQ 14.984375 37.3125 14.984375 27.296875 \nQ 14.984375 17.28125 19.8125 11.734375 \nQ 24.65625 6.203125 33.40625 6.203125 \nQ 37.3125 6.203125 41.140625 7.25 \nQ 44.96875 8.296875 48.78125 10.40625 \nL 48.78125 2.09375 \nQ 45.015625 0.34375 40.984375 -0.53125 \nQ 36.96875 -1.421875 32.421875 -1.421875 \nQ 20.0625 -1.421875 12.78125 6.34375 \nQ 5.515625 14.109375 5.515625 27.296875 \nQ 5.515625 40.671875 12.859375 48.328125 \nQ 20.21875 56 33.015625 56 \nQ 37.15625 56 41.109375 55.140625 \nQ 45.0625 54.296875 48.78125 52.59375 \nz\n\" id=\"DejaVuSans-99\"/>\n      <path d=\"M 8.5 21.578125 \nL 8.5 54.6875 \nL 17.484375 54.6875 \nL 17.484375 21.921875 \nQ 17.484375 14.15625 20.5 10.265625 \nQ 23.53125 6.390625 29.59375 6.390625 \nQ 36.859375 6.390625 41.078125 11.03125 \nQ 45.3125 15.671875 45.3125 23.6875 \nL 45.3125 54.6875 \nL 54.296875 54.6875 \nL 54.296875 0 \nL 45.3125 0 \nL 45.3125 8.40625 \nQ 42.046875 3.421875 37.71875 1 \nQ 33.40625 -1.421875 27.6875 -1.421875 \nQ 18.265625 -1.421875 13.375 4.4375 \nQ 8.5 10.296875 8.5 21.578125 \nz\nM 31.109375 56 \nz\n\" id=\"DejaVuSans-117\"/>\n      <path d=\"M 2.984375 54.6875 \nL 12.5 54.6875 \nL 29.59375 8.796875 \nL 46.6875 54.6875 \nL 56.203125 54.6875 \nL 35.6875 0 \nL 23.484375 0 \nz\n\" id=\"DejaVuSans-118\"/>\n     </defs>\n     <use xlink:href=\"#DejaVuSans-82\"/>\n     <use x=\"69.482422\" xlink:href=\"#DejaVuSans-76\"/>\n     <use x=\"125.195312\" xlink:href=\"#DejaVuSans-32\"/>\n     <use x=\"156.982422\" xlink:href=\"#DejaVuSans-97\"/>\n     <use x=\"218.261719\" xlink:href=\"#DejaVuSans-103\"/>\n     <use x=\"281.738281\" xlink:href=\"#DejaVuSans-101\"/>\n     <use x=\"343.261719\" xlink:href=\"#DejaVuSans-110\"/>\n     <use x=\"406.640625\" xlink:href=\"#DejaVuSans-116\"/>\n     <use x=\"445.849609\" xlink:href=\"#DejaVuSans-39\"/>\n     <use x=\"473.339844\" xlink:href=\"#DejaVuSans-115\"/>\n     <use x=\"525.439453\" xlink:href=\"#DejaVuSans-32\"/>\n     <use x=\"557.226562\" xlink:href=\"#DejaVuSans-108\"/>\n     <use x=\"585.009766\" xlink:href=\"#DejaVuSans-101\"/>\n     <use x=\"646.533203\" xlink:href=\"#DejaVuSans-97\"/>\n     <use x=\"707.8125\" xlink:href=\"#DejaVuSans-114\"/>\n     <use x=\"747.175781\" xlink:href=\"#DejaVuSans-110\"/>\n     <use x=\"810.554688\" xlink:href=\"#DejaVuSans-105\"/>\n     <use x=\"838.337891\" xlink:href=\"#DejaVuSans-110\"/>\n     <use x=\"901.716797\" xlink:href=\"#DejaVuSans-103\"/>\n     <use x=\"965.193359\" xlink:href=\"#DejaVuSans-32\"/>\n     <use x=\"996.980469\" xlink:href=\"#DejaVuSans-99\"/>\n     <use x=\"1051.960938\" xlink:href=\"#DejaVuSans-117\"/>\n     <use x=\"1115.339844\" xlink:href=\"#DejaVuSans-114\"/>\n     <use x=\"1156.453125\" xlink:href=\"#DejaVuSans-118\"/>\n     <use x=\"1215.632812\" xlink:href=\"#DejaVuSans-101\"/>\n    </g>\n   </g>\n  </g>\n </g>\n <defs>\n  <clipPath id=\"pb72377d4ec\">\n   <rect height=\"217.44\" width=\"334.8\" x=\"52.160938\" y=\"22.318125\"/>\n  </clipPath>\n </defs>\n</svg>\n",
      "image/png": "[encoded data removed]"
     },
     "metadata": {
      "needs_background": "light"
     }
    }
   ],
   "source": [
    "import matplotlib.pyplot as plt\n",
    "\n",
    "logs = np.array(logs)\n",
    "plt.plot(np.mean(logs, axis=0)[:,0], np.mean(logs, axis=0)[:,1])\n",
    "plt.fill_between(np.mean(logs, axis=0)[:,0], \n",
    "                 np.mean(logs, axis=0)[:,1]- np.std(logs, axis=0)[:,1],  \n",
    "                 np.mean(logs, axis=0)[:,1]+ np.std(logs, axis=0)[:,1], \n",
    "                 alpha=0.5)\n",
    "plt.xlabel(\"Time\")\n",
    "plt.ylabel(\"Reward\")\n",
    "plt.title(\"RL agent's learning curve\")"
   ]
  }
 ]
}